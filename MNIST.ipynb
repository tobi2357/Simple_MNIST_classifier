{
 "cells": [
  {
   "cell_type": "markdown",
   "metadata": {},
   "source": [
    "# A simple MNIST classifier"
   ]
  },
  {
   "cell_type": "markdown",
   "metadata": {},
   "source": [
    "In this little notebook we will train neural networks on the MNIST dataset. We begin with a simple fully connected network and briefly do error analysis on this network. Afterwards, we add a convolutional layer to the network to see if this improves the overall model performance (which it does, as will turn out). Starting from there, we investigate the effect of adding dropout layers, performing batch normalization and using several convolutional layers to the model performance. For some of these models we continue the short error analysis. and point at ways to improve the networks though we do not go in these direction at all."
   ]
  },
  {
   "cell_type": "markdown",
   "metadata": {},
   "source": [
    "We begin by loading the basic libraries and modules we are going to use. If you wish to train your model on an AMD graphics card, you may want to have a look at plaidml and change the first cell accordingly. Also if you don't want to use tensorboard feel free to delete the respective lines of code. We provided functions for plotting the accurarcy and loss during training below and they are also used in addition to tensorboard."
   ]
  },
  {
   "cell_type": "code",
   "execution_count": 1,
   "metadata": {},
   "outputs": [
    {
     "name": "stderr",
     "output_type": "stream",
     "text": [
      "Using TensorFlow backend.\n"
     ]
    }
   ],
   "source": [
    "import os\n",
    "import tensorflow as tf\n",
    "import tensorflow.keras as keras\n",
    "import PIL\n",
    "import numpy as np\n",
    "import pandas as pd\n",
    "\n",
    "from IPython.display import Image\n",
    "from tensorflow.keras.models import Model\n",
    "from tensorflow.keras.layers import Conv2D, Dense, MaxPooling2D, Input, Flatten, BatchNormalization, Dropout\n",
    "import matplotlib.pyplot as plt\n",
    "from keras.utils import to_categorical\n",
    "\n",
    "keras.backend.set_image_data_format('channels_last')\n",
    "\n",
    "%load_ext tensorboard"
   ]
  },
  {
   "cell_type": "code",
   "execution_count": 2,
   "metadata": {},
   "outputs": [],
   "source": [
    "def one_hot_to_label(pred):\n",
    "    return np.argmax(pred)\n",
    "\n",
    "def plot_accuracy(history):\n",
    "    plt.plot(history.history['accuracy'])\n",
    "    plt.plot(history.history['val_accuracy'])\n",
    "    plt.title('model accuracy')\n",
    "    plt.ylabel('accuracy')\n",
    "    plt.xlabel('epoch')\n",
    "    plt.legend(['train', 'val'], loc='upper left')\n",
    "    plt.show()\n",
    "    \n",
    "def plot_loss(history):\n",
    "    plt.plot(history.history['loss'])\n",
    "    plt.plot(history.history['val_loss'])\n",
    "    plt.title('model loss')\n",
    "    plt.ylabel('loss')\n",
    "    plt.xlabel('epoch')\n",
    "    plt.legend(['train', 'val'], loc='upper left')\n",
    "    plt.show()"
   ]
  },
  {
   "cell_type": "markdown",
   "metadata": {},
   "source": [
    "Now, let us load the MNIST dataset. Luckily, it is part of the keras datasets so we can just load it with a simple command."
   ]
  },
  {
   "cell_type": "code",
   "execution_count": 3,
   "metadata": {},
   "outputs": [
    {
     "name": "stdout",
     "output_type": "stream",
     "text": [
      "Number of training samples:  60000\n",
      "Number of test samples:  10000\n"
     ]
    }
   ],
   "source": [
    "(x_train, y_train), (x_test, y_test) = keras.datasets.mnist.load_data()\n",
    "\n",
    "print('Number of training samples: ', x_train.shape[0])\n",
    "print('Number of test samples: ', x_test.shape[0])"
   ]
  },
  {
   "cell_type": "markdown",
   "metadata": {},
   "source": [
    "After loading the dataset, let us have a look at the data we have."
   ]
  },
  {
   "cell_type": "code",
   "execution_count": 4,
   "metadata": {
    "scrolled": true
   },
   "outputs": [
    {
     "data": {
      "image/png": "[encoded data removed]",
      "text/plain": [
       "<Figure size 1152x144 with 8 Axes>"
      ]
     },
     "metadata": {
      "needs_background": "light"
     },
     "output_type": "display_data"
    }
   ],
   "source": [
    "fig, axes = plt.subplots(1, 8, figsize=(16, 2))\n",
    "for ind, ax in enumerate(axes.flat):\n",
    "    ax.set_axis_off()\n",
    "    ax.imshow(x_train[ind], cmap=plt.get_cmap('gray'))\n",
    "    ax.set_title('Label: ' + str(y_train[ind]))"
   ]
  },
  {
   "cell_type": "markdown",
   "metadata": {},
   "source": [
    "Ok, so these are pictures of handwritten images, each 28x28 pixels and with greyscale values."
   ]
  },
  {
   "cell_type": "markdown",
   "metadata": {},
   "source": [
    "## Data preprocessing"
   ]
  },
  {
   "cell_type": "markdown",
   "metadata": {},
   "source": [
    "There isn't much data preprocessing necessary for this dataset. But converting the pixel values to numbers between 0 and 1 is definitely something we can do easily and which speeds up training quite a bit. So let us do so."
   ]
  },
  {
   "cell_type": "code",
   "execution_count": 5,
   "metadata": {},
   "outputs": [],
   "source": [
    "def preprocess_data(x, y):\n",
    "    x = x.astype('float32')\n",
    "    x = x.reshape((x.shape[0], 28, 28, 1)) # add extra dimension to use conv2d in the model\n",
    "    x = x/255 # normalize to values between 0 and 1\n",
    "    \n",
    "    y = to_categorical(y) # one hot encoding\n",
    "    return x, y\n",
    "    "
   ]
  },
  {
   "cell_type": "code",
   "execution_count": 6,
   "metadata": {},
   "outputs": [],
   "source": [
    "x_train, y_train = preprocess_data(x_train, y_train)\n",
    "x_test, y_test = preprocess_data(x_test, y_test)"
   ]
  },
  {
   "cell_type": "markdown",
   "metadata": {},
   "source": [
    "## Fully connected model"
   ]
  },
  {
   "cell_type": "markdown",
   "metadata": {},
   "source": [
    "Let us start by defining a fully connected network as first model. We take the input image (28x28x1), flatten it into a fully connected layer of size 28\\*28=784 and then reduce its size by a factor of four in each step."
   ]
  },
  {
   "cell_type": "code",
   "execution_count": 7,
   "metadata": {},
   "outputs": [
    {
     "name": "stdout",
     "output_type": "stream",
     "text": [
      "Model: \"MNIST_fully_connected\"\n",
      "_________________________________________________________________\n",
      "Layer (type)                 Output Shape              Param #   \n",
      "=================================================================\n",
      "input_1 (InputLayer)         [(None, 28, 28, 1)]       0         \n",
      "_________________________________________________________________\n",
      "flatten (Flatten)            (None, 784)               0         \n",
      "_________________________________________________________________\n",
      "dense (Dense)                (None, 512)               401920    \n",
      "_________________________________________________________________\n",
      "dense_1 (Dense)              (None, 128)               65664     \n",
      "_________________________________________________________________\n",
      "dense_2 (Dense)              (None, 32)                4128      \n",
      "_________________________________________________________________\n",
      "dense_3 (Dense)              (None, 10)                330       \n",
      "=================================================================\n",
      "Total params: 472,042\n",
      "Trainable params: 472,042\n",
      "Non-trainable params: 0\n",
      "_________________________________________________________________\n",
      "None\n"
     ]
    }
   ],
   "source": [
    "def fully_connected_model(input_shape, name='MNIST_fully_connected'):\n",
    "    \n",
    "    X_input = Input(input_shape)\n",
    "    X = X_input\n",
    "    \n",
    "    X = Flatten()(X) # fully connected layer with 784 nodes\n",
    "    \n",
    "    # reduce by factor of four in each layer\n",
    "    X = Dense(512, activation='relu')(X)\n",
    "    X = Dense(128, activation='relu')(X)\n",
    "    X = Dense(32, activation='relu')(X)\n",
    "    X = Dense(10, activation='softmax')(X)\n",
    "\n",
    "    model = Model(X_input, X, name=name)\n",
    "    \n",
    "    return model\n",
    "    \n",
    "fully_connected_model = fully_connected_model((28, 28, 1))\n",
    "print(fully_connected_model.summary())"
   ]
  },
  {
   "cell_type": "markdown",
   "metadata": {},
   "source": [
    "Alright, so we have 472,042 parameters and four hidden layers. Let's see how well our model performs after some training!"
   ]
  },
  {
   "cell_type": "markdown",
   "metadata": {},
   "source": [
    "## Training and Evaluation"
   ]
  },
  {
   "cell_type": "code",
   "execution_count": 8,
   "metadata": {},
   "outputs": [],
   "source": [
    "fully_connected_model.compile(optimizer='adam', loss='categorical_crossentropy', metrics=['accuracy'])"
   ]
  },
  {
   "cell_type": "code",
   "execution_count": 9,
   "metadata": {
    "scrolled": false
   },
   "outputs": [
    {
     "data": {
      "text/plain": [
       "Reusing TensorBoard on port 6013 (pid 5720), started 18:09:33 ago. (Use '!kill 5720' to kill it.)"
      ]
     },
     "metadata": {},
     "output_type": "display_data"
    },
    {
     "data": {
      "text/html": [
       "\n",
       "      <iframe id=\"tensorboard-frame-de29dddde5c57396\" width=\"100%\" height=\"800\" frameborder=\"0\">\n",
       "      </iframe>\n",
       "      <script>\n",
       "        (function() {\n",
       "          const frame = document.getElementById(\"tensorboard-frame-de29dddde5c57396\");\n",
       "          const url = new URL(\"/\", window.location);\n",
       "          const port = 6013;\n",
       "          if (port) {\n",
       "            url.port = port;\n",
       "          }\n",
       "          frame.src = url;\n",
       "        })();\n",
       "      </script>\n",
       "    "
      ],
      "text/plain": [
       "<IPython.core.display.HTML object>"
      ]
     },
     "metadata": {},
     "output_type": "display_data"
    },
    {
     "name": "stdout",
     "output_type": "stream",
     "text": [
      "Epoch 1/15\n",
      "  1/394 [..............................] - ETA: 0s - loss: 2.3370 - accuracy: 0.1562WARNING:tensorflow:From /Users/heckel/opt/anaconda3/envs/MNIST/lib/python3.6/site-packages/tensorflow/python/ops/summary_ops_v2.py:1277: stop (from tensorflow.python.eager.profiler) is deprecated and will be removed after 2020-07-01.\n",
      "Instructions for updating:\n",
      "use `tf.profiler.experimental.stop` instead.\n",
      "WARNING:tensorflow:Callbacks method `on_train_batch_end` is slow compared to the batch time (batch time: 0.0035s vs `on_train_batch_end` time: 0.0114s). Check your callbacks.\n",
      "394/394 [==============================] - 2s 4ms/step - loss: 0.2902 - accuracy: 0.9141 - val_loss: 0.1320 - val_accuracy: 0.9648\n",
      "Epoch 2/15\n",
      "394/394 [==============================] - 1s 4ms/step - loss: 0.1003 - accuracy: 0.9700 - val_loss: 0.1063 - val_accuracy: 0.9685\n",
      "Epoch 3/15\n",
      "394/394 [==============================] - 1s 4ms/step - loss: 0.0648 - accuracy: 0.9804 - val_loss: 0.0837 - val_accuracy: 0.9753\n",
      "Epoch 4/15\n",
      "394/394 [==============================] - 2s 4ms/step - loss: 0.0486 - accuracy: 0.9848 - val_loss: 0.0819 - val_accuracy: 0.9760\n",
      "Epoch 5/15\n",
      "394/394 [==============================] - 1s 4ms/step - loss: 0.0316 - accuracy: 0.9900 - val_loss: 0.0802 - val_accuracy: 0.9784\n",
      "Epoch 6/15\n",
      "394/394 [==============================] - 1s 4ms/step - loss: 0.0238 - accuracy: 0.9928 - val_loss: 0.0824 - val_accuracy: 0.9773\n",
      "Epoch 7/15\n",
      "394/394 [==============================] - 1s 4ms/step - loss: 0.0227 - accuracy: 0.9926 - val_loss: 0.0896 - val_accuracy: 0.9789\n",
      "Epoch 8/15\n",
      "394/394 [==============================] - 1s 4ms/step - loss: 0.0175 - accuracy: 0.9943 - val_loss: 0.0788 - val_accuracy: 0.9800\n",
      "Epoch 9/15\n",
      "394/394 [==============================] - 1s 4ms/step - loss: 0.0157 - accuracy: 0.9947 - val_loss: 0.0985 - val_accuracy: 0.9757\n",
      "Epoch 10/15\n",
      "394/394 [==============================] - 1s 4ms/step - loss: 0.0163 - accuracy: 0.9948 - val_loss: 0.0787 - val_accuracy: 0.9803\n",
      "Epoch 11/15\n",
      "394/394 [==============================] - 1s 4ms/step - loss: 0.0131 - accuracy: 0.9958 - val_loss: 0.0952 - val_accuracy: 0.9771\n",
      "Epoch 12/15\n",
      "394/394 [==============================] - 1s 4ms/step - loss: 0.0112 - accuracy: 0.9965 - val_loss: 0.0878 - val_accuracy: 0.9825\n",
      "Epoch 13/15\n",
      "394/394 [==============================] - 1s 3ms/step - loss: 0.0103 - accuracy: 0.9969 - val_loss: 0.1136 - val_accuracy: 0.9762\n",
      "Epoch 14/15\n",
      "394/394 [==============================] - 1s 4ms/step - loss: 0.0110 - accuracy: 0.9962 - val_loss: 0.1077 - val_accuracy: 0.9779\n",
      "Epoch 15/15\n",
      "394/394 [==============================] - 1s 4ms/step - loss: 0.0100 - accuracy: 0.9968 - val_loss: 0.0982 - val_accuracy: 0.9784\n",
      "313/313 [==============================] - 0s 1ms/step - loss: 0.0987 - accuracy: 0.9773\n"
     ]
    }
   ],
   "source": [
    "%tensorboard --logdir ./logs/fully_connected_model/\n",
    "history = fully_connected_model.fit(x_train, y_train, batch_size=128, epochs=15, validation_split=0.16, shuffle=True, \n",
    "                    callbacks=[tf.keras.callbacks.TensorBoard(log_dir='./logs/fully_connected_model/')])\n",
    "score = fully_connected_model.evaluate(x_test, y_test)\n",
    "\n",
    "fully_connected_model.save_weights('./models/fully_connected_model.h5')"
   ]
  },
  {
   "cell_type": "markdown",
   "metadata": {},
   "source": [
    "So how does our model perform? Let's have a look at the graphs and scores (if you are using tensorboard, you have seen the graphs already)."
   ]
  },
  {
   "cell_type": "code",
   "execution_count": 10,
   "metadata": {},
   "outputs": [
    {
     "data": {
      "image/png": "[encoded data removed]",
      "text/plain": [
       "<Figure size 432x288 with 1 Axes>"
      ]
     },
     "metadata": {
      "needs_background": "light"
     },
     "output_type": "display_data"
    },
    {
     "data": {
      "image/png": "[encoded data removed]",
      "text/plain": [
       "<Figure size 432x288 with 1 Axes>"
      ]
     },
     "metadata": {
      "needs_background": "light"
     },
     "output_type": "display_data"
    }
   ],
   "source": [
    "plot_accuracy(history)\n",
    "plot_loss(history)"
   ]
  },
  {
   "cell_type": "code",
   "execution_count": 11,
   "metadata": {
    "scrolled": true
   },
   "outputs": [
    {
     "name": "stdout",
     "output_type": "stream",
     "text": [
      "Accuracy on train set:  0.9968055486679077\n",
      "Accuracy on test set:  0.9772999882698059\n"
     ]
    }
   ],
   "source": [
    "print('Accuracy on train set: ', history.history['accuracy'][-1])\n",
    "print('Accuracy on test set: ', score[-1])"
   ]
  },
  {
   "cell_type": "markdown",
   "metadata": {},
   "source": [
    "We have 97.7% accuracy on the test set which seems to be reasonable good for a quick test run and a model as simple as ours. On the train set we achieve 99.6% accuracy which is way more -- our model is overfitting the train set!"
   ]
  },
  {
   "cell_type": "markdown",
   "metadata": {},
   "source": [
    "To perform some brief error analysis, we begin by looking at some of the false predictions of the model."
   ]
  },
  {
   "cell_type": "code",
   "execution_count": 12,
   "metadata": {},
   "outputs": [
    {
     "name": "stdout",
     "output_type": "stream",
     "text": [
      "Number of wrong predictions:  227\n"
     ]
    },
    {
     "data": {
      "image/png": "[encoded data removed]",
      "text/plain": [
       "<Figure size 1152x144 with 8 Axes>"
      ]
     },
     "metadata": {
      "needs_background": "light"
     },
     "output_type": "display_data"
    }
   ],
   "source": [
    "def plot_incorrect_preds(model):\n",
    "    pred = model.predict(x_test)\n",
    "    pred_labels = np.argmax(pred, axis=1)\n",
    "    true_labels = np.argmax(y_test, axis=1)\n",
    "\n",
    "    incorrect = np.where(pred_labels != true_labels)[0]\n",
    "    print('Number of wrong predictions: ', len(incorrect))\n",
    "    \n",
    "    fig, axes = plt.subplots(1, 8, figsize=(16, 2))\n",
    "    for ind, ax in enumerate(axes.flat):\n",
    "        ind = incorrect[ind]\n",
    "        ax.set_axis_off()\n",
    "        ax.imshow(x_test[ind], cmap=plt.get_cmap('gray'))\n",
    "        true_label = one_hot_to_label(y_test[ind])\n",
    "        predicted_label = one_hot_to_label(pred[ind])\n",
    "        confidence = pred[ind, predicted_label]\n",
    "        ax.set_title('Label: %s\\nPrediction: %s\\nConfidence %1.2f' %(true_label, predicted_label, confidence))\n",
    "        \n",
    "plot_incorrect_preds(fully_connected_model)"
   ]
  },
  {
   "cell_type": "markdown",
   "metadata": {},
   "source": [
    "This shows 227 false predictions in total but it is hard to investigate systematic errors just by looking at (few) examples. Thus, let us plot predictions versus ground truth and inicate the number of samples at a point (truth, prediction) by its color itensity."
   ]
  },
  {
   "cell_type": "code",
   "execution_count": 13,
   "metadata": {},
   "outputs": [
    {
     "data": {
      "image/png": "[encoded data removed]",
      "text/plain": [
       "<Figure size 432x288 with 1 Axes>"
      ]
     },
     "metadata": {
      "needs_background": "light"
     },
     "output_type": "display_data"
    }
   ],
   "source": [
    "def plot_preds_scatter(model):\n",
    "    pred = model.predict(x_test)\n",
    "    pred_labels = np.argmax(pred, axis=1)\n",
    "    true_labels = np.argmax(y_test, axis=1)\n",
    "    \n",
    "    df = pd.DataFrame(true_labels, columns=['Truth'])\n",
    "    df['Prediction'] = pred_labels\n",
    "    df['Incorrect'] = np.where(df['Truth'] == df['Prediction'], False, True)\n",
    "    df_incorr = df.loc[df.Incorrect].reset_index(drop=True)\n",
    "    \n",
    "    df_incorr.plot(x='Truth', y='Prediction', kind='scatter', alpha=.1, s=50, title='')\n",
    "    \n",
    "plot_preds_scatter(fully_connected_model)"
   ]
  },
  {
   "cell_type": "markdown",
   "metadata": {},
   "source": [
    "This reveals, for example, that a four is often mistaken for a nine by the model, six and eight for a zero, seven for one and two and so on. We also see that what is predicted four should often times be a nine, thus distinguishing four from nine seems to be hard for the model. We may also have a look at how often number are predicted incorrectly and how many incorrect predictions are there per number."
   ]
  },
  {
   "cell_type": "code",
   "execution_count": 14,
   "metadata": {},
   "outputs": [
    {
     "data": {
      "image/png": "[encoded data removed]",
      "text/plain": [
       "<Figure size 1152x288 with 2 Axes>"
      ]
     },
     "metadata": {
      "needs_background": "light"
     },
     "output_type": "display_data"
    }
   ],
   "source": [
    "def plot_incorr_preds_hist(model):\n",
    "    pred = model.predict(x_test)\n",
    "    pred_labels = np.argmax(pred, axis=1)\n",
    "    true_labels = np.argmax(y_test, axis=1)\n",
    "    \n",
    "    df = pd.DataFrame(true_labels, columns=['Truth'])\n",
    "    df['Prediction'] = pred_labels\n",
    "    df['Incorrect'] = np.where(df['Truth'] == df['Prediction'], False, True)\n",
    "    df_incorr = df.loc[df.Incorrect].reset_index(drop=True)\n",
    "    \n",
    "    df_incorr.hist(column=['Truth', 'Prediction'], figsize=(16, 4), grid=False)\n",
    "\n",
    "plot_incorr_preds_hist(fully_connected_model)"
   ]
  },
  {
   "cell_type": "markdown",
   "metadata": {},
   "source": [
    "The numbers seven and eight seem to cause most of the mispredictions. Moreover, if a three is predicted, the model is wrong more often than for other numbers. But also predictions for zero and nine are often inaccurate. This goes in line with what we saw from the scatter plot above but in total, our error analysis so far doesn't really give deep insights."
   ]
  },
  {
   "cell_type": "markdown",
   "metadata": {},
   "source": [
    "## A convolutional model"
   ]
  },
  {
   "cell_type": "markdown",
   "metadata": {},
   "source": [
    "For computer vision tasks (as recognizing digits in images) convolutional networks usually perform better as it is possible for them to learn patterns. So let us set up a new model with one convolutional layer followed by dense layers, reducing the the size by four in each step, just as before."
   ]
  },
  {
   "cell_type": "code",
   "execution_count": 15,
   "metadata": {
    "scrolled": true
   },
   "outputs": [
    {
     "name": "stdout",
     "output_type": "stream",
     "text": [
      "Model: \"Convolutional_MNIST_model\"\n",
      "_________________________________________________________________\n",
      "Layer (type)                 Output Shape              Param #   \n",
      "=================================================================\n",
      "input_2 (InputLayer)         [(None, 28, 28, 1)]       0         \n",
      "_________________________________________________________________\n",
      "conv2d (Conv2D)              (None, 13, 13, 32)        544       \n",
      "_________________________________________________________________\n",
      "max_pooling2d (MaxPooling2D) (None, 7, 7, 32)          0         \n",
      "_________________________________________________________________\n",
      "flatten_1 (Flatten)          (None, 1568)              0         \n",
      "_________________________________________________________________\n",
      "dense_4 (Dense)              (None, 1024)              1606656   \n",
      "_________________________________________________________________\n",
      "dense_5 (Dense)              (None, 256)               262400    \n",
      "_________________________________________________________________\n",
      "dense_6 (Dense)              (None, 64)                16448     \n",
      "_________________________________________________________________\n",
      "dense_7 (Dense)              (None, 10)                650       \n",
      "=================================================================\n",
      "Total params: 1,886,698\n",
      "Trainable params: 1,886,698\n",
      "Non-trainable params: 0\n",
      "_________________________________________________________________\n",
      "None\n"
     ]
    }
   ],
   "source": [
    "def conv_model(input_shape, name='Convolutional_MNIST_model'):\n",
    "    \n",
    "    X_input = Input(input_shape)\n",
    "    X = X_input\n",
    "    \n",
    "    X = Conv2D(32, (4, 4), strides=2)(X)\n",
    "    X = MaxPooling2D(pool_size=(2, 2), strides=2, padding='same')(X)\n",
    "    \n",
    "    X = Flatten()(X)\n",
    "    X = Dense(1024, activation='relu')(X)\n",
    "    X = Dense(256, activation='relu')(X)\n",
    "    X = Dense(64, activation='relu')(X)\n",
    "    X = Dense(10, activation='softmax')(X)\n",
    "    \n",
    "    \n",
    "    \n",
    "    model = Model(X_input, X, name=name)\n",
    "    \n",
    "    return model\n",
    "    \n",
    "conv_model = conv_model((28, 28, 1))\n",
    "print(conv_model.summary())"
   ]
  },
  {
   "cell_type": "markdown",
   "metadata": {},
   "source": [
    "Now let's train this model."
   ]
  },
  {
   "cell_type": "code",
   "execution_count": 16,
   "metadata": {},
   "outputs": [],
   "source": [
    "conv_model.compile(optimizer='adam', loss='categorical_crossentropy', metrics=['accuracy'])"
   ]
  },
  {
   "cell_type": "code",
   "execution_count": 17,
   "metadata": {},
   "outputs": [
    {
     "data": {
      "text/plain": [
       "Reusing TensorBoard on port 6011 (pid 5031), started 20:00:18 ago. (Use '!kill 5031' to kill it.)"
      ]
     },
     "metadata": {},
     "output_type": "display_data"
    },
    {
     "data": {
      "text/html": [
       "\n",
       "      <iframe id=\"tensorboard-frame-695e92029768b408\" width=\"100%\" height=\"800\" frameborder=\"0\">\n",
       "      </iframe>\n",
       "      <script>\n",
       "        (function() {\n",
       "          const frame = document.getElementById(\"tensorboard-frame-695e92029768b408\");\n",
       "          const url = new URL(\"/\", window.location);\n",
       "          const port = 6011;\n",
       "          if (port) {\n",
       "            url.port = port;\n",
       "          }\n",
       "          frame.src = url;\n",
       "        })();\n",
       "      </script>\n",
       "    "
      ],
      "text/plain": [
       "<IPython.core.display.HTML object>"
      ]
     },
     "metadata": {},
     "output_type": "display_data"
    },
    {
     "name": "stdout",
     "output_type": "stream",
     "text": [
      "Epoch 1/15\n",
      "  2/394 [..............................] - ETA: 18s - loss: 2.2687 - accuracy: 0.0977WARNING:tensorflow:Callbacks method `on_train_batch_end` is slow compared to the batch time (batch time: 0.0206s vs `on_train_batch_end` time: 0.0765s). Check your callbacks.\n",
      "394/394 [==============================] - 8s 21ms/step - loss: 0.2254 - accuracy: 0.9303 - val_loss: 0.0749 - val_accuracy: 0.9780\n",
      "Epoch 2/15\n",
      "394/394 [==============================] - 8s 20ms/step - loss: 0.0634 - accuracy: 0.9808 - val_loss: 0.0793 - val_accuracy: 0.9758\n",
      "Epoch 3/15\n",
      "394/394 [==============================] - 8s 20ms/step - loss: 0.0376 - accuracy: 0.9887 - val_loss: 0.0558 - val_accuracy: 0.9842\n",
      "Epoch 4/15\n",
      "394/394 [==============================] - 8s 21ms/step - loss: 0.0228 - accuracy: 0.9926 - val_loss: 0.0531 - val_accuracy: 0.9852\n",
      "Epoch 5/15\n",
      "394/394 [==============================] - 9s 23ms/step - loss: 0.0201 - accuracy: 0.9935 - val_loss: 0.0572 - val_accuracy: 0.9854\n",
      "Epoch 6/15\n",
      "394/394 [==============================] - 8s 21ms/step - loss: 0.0137 - accuracy: 0.9959 - val_loss: 0.0634 - val_accuracy: 0.9839\n",
      "Epoch 7/15\n",
      "394/394 [==============================] - 8s 21ms/step - loss: 0.0123 - accuracy: 0.9958 - val_loss: 0.0689 - val_accuracy: 0.9830\n",
      "Epoch 8/15\n",
      "394/394 [==============================] - 8s 20ms/step - loss: 0.0124 - accuracy: 0.9956 - val_loss: 0.0679 - val_accuracy: 0.9836\n",
      "Epoch 9/15\n",
      "394/394 [==============================] - 8s 19ms/step - loss: 0.0095 - accuracy: 0.9969 - val_loss: 0.0579 - val_accuracy: 0.9857\n",
      "Epoch 10/15\n",
      "394/394 [==============================] - 8s 20ms/step - loss: 0.0080 - accuracy: 0.9974 - val_loss: 0.0783 - val_accuracy: 0.9844\n",
      "Epoch 11/15\n",
      "394/394 [==============================] - 8s 20ms/step - loss: 0.0080 - accuracy: 0.9976 - val_loss: 0.0865 - val_accuracy: 0.9800\n",
      "Epoch 12/15\n",
      "394/394 [==============================] - 8s 20ms/step - loss: 0.0108 - accuracy: 0.9968 - val_loss: 0.0735 - val_accuracy: 0.9829\n",
      "Epoch 13/15\n",
      "394/394 [==============================] - 8s 20ms/step - loss: 0.0084 - accuracy: 0.9974 - val_loss: 0.0618 - val_accuracy: 0.9869\n",
      "Epoch 14/15\n",
      "394/394 [==============================] - 8s 20ms/step - loss: 0.0023 - accuracy: 0.9993 - val_loss: 0.0625 - val_accuracy: 0.9889\n",
      "Epoch 15/15\n",
      "394/394 [==============================] - 8s 20ms/step - loss: 0.0029 - accuracy: 0.9992 - val_loss: 0.0908 - val_accuracy: 0.9847\n",
      "313/313 [==============================] - 1s 4ms/step - loss: 0.0839 - accuracy: 0.9830\n"
     ]
    }
   ],
   "source": [
    "%tensorboard --logdir ./logs/conv_model/\n",
    "    \n",
    "history = conv_model.fit(x_train, y_train, batch_size=128, epochs=15, validation_split=0.16, shuffle=True,\n",
    "                               callbacks=[tf.keras.callbacks.TensorBoard(log_dir='./logs/conv_model/')])\n",
    "score = conv_model.evaluate(x_test, y_test)\n",
    "\n",
    "conv_model.save_weights('./models/conv_model.h5')"
   ]
  },
  {
   "cell_type": "code",
   "execution_count": 18,
   "metadata": {},
   "outputs": [
    {
     "name": "stdout",
     "output_type": "stream",
     "text": [
      "Accuracy on train set:  0.9992262125015259\n",
      "Accuracy on test set:  0.9829999804496765\n"
     ]
    }
   ],
   "source": [
    "print('Accuracy on train set: ', history.history['accuracy'][-1])\n",
    "print('Accuracy on test set: ', score[-1])"
   ]
  },
  {
   "cell_type": "code",
   "execution_count": 19,
   "metadata": {
    "scrolled": true
   },
   "outputs": [
    {
     "data": {
      "image/png": "[encoded data removed]",
      "text/plain": [
       "<Figure size 432x288 with 1 Axes>"
      ]
     },
     "metadata": {
      "needs_background": "light"
     },
     "output_type": "display_data"
    },
    {
     "data": {
      "image/png": "[encoded data removed]",
      "text/plain": [
       "<Figure size 432x288 with 1 Axes>"
      ]
     },
     "metadata": {
      "needs_background": "light"
     },
     "output_type": "display_data"
    }
   ],
   "source": [
    "plot_loss(history)\n",
    "plot_accuracy(history)"
   ]
  },
  {
   "cell_type": "markdown",
   "metadata": {},
   "source": [
    "The convolutional model performs better on the test set but also clearly overfits the train set. One possibility to reduce overfitting that usually works is to add dropout layers so we'll now investigate their effect on the model performance."
   ]
  },
  {
   "cell_type": "markdown",
   "metadata": {},
   "source": [
    "### Adding dropout layers"
   ]
  },
  {
   "cell_type": "markdown",
   "metadata": {},
   "source": [
    "The following model is basically the same as before but containing three dropout layers. "
   ]
  },
  {
   "cell_type": "code",
   "execution_count": 20,
   "metadata": {},
   "outputs": [
    {
     "name": "stdout",
     "output_type": "stream",
     "text": [
      "Model: \"Convolutional_MNIST_model_with_dropout\"\n",
      "_________________________________________________________________\n",
      "Layer (type)                 Output Shape              Param #   \n",
      "=================================================================\n",
      "input_3 (InputLayer)         [(None, 28, 28, 1)]       0         \n",
      "_________________________________________________________________\n",
      "conv2d_1 (Conv2D)            (None, 13, 13, 32)        544       \n",
      "_________________________________________________________________\n",
      "max_pooling2d_1 (MaxPooling2 (None, 7, 7, 32)          0         \n",
      "_________________________________________________________________\n",
      "dropout (Dropout)            (None, 7, 7, 32)          0         \n",
      "_________________________________________________________________\n",
      "flatten_2 (Flatten)          (None, 1568)              0         \n",
      "_________________________________________________________________\n",
      "dense_8 (Dense)              (None, 1024)              1606656   \n",
      "_________________________________________________________________\n",
      "dropout_1 (Dropout)          (None, 1024)              0         \n",
      "_________________________________________________________________\n",
      "dense_9 (Dense)              (None, 256)               262400    \n",
      "_________________________________________________________________\n",
      "dense_10 (Dense)             (None, 64)                16448     \n",
      "_________________________________________________________________\n",
      "dropout_2 (Dropout)          (None, 64)                0         \n",
      "_________________________________________________________________\n",
      "dense_11 (Dense)             (None, 10)                650       \n",
      "=================================================================\n",
      "Total params: 1,886,698\n",
      "Trainable params: 1,886,698\n",
      "Non-trainable params: 0\n",
      "_________________________________________________________________\n",
      "None\n"
     ]
    }
   ],
   "source": [
    "def conv_model_with_dropout(input_shape, name='Convolutional_MNIST_model_with_dropout'):\n",
    "    \n",
    "    X_input = Input(input_shape)\n",
    "    X = X_input\n",
    "    \n",
    "    X = Conv2D(32, (4, 4), strides=2, activation='relu')(X)\n",
    "    X = MaxPooling2D(pool_size=(2, 2), strides=2, padding='same')(X)\n",
    "    X = Dropout(0.4)(X)\n",
    "    \n",
    "    X = Flatten()(X)\n",
    "    X = Dense(1024, activation='relu')(X)\n",
    "    X = Dropout(0.2)(X)\n",
    "    X = Dense(256, activation='relu')(X)\n",
    "    X = Dense(64, activation='relu')(X)\n",
    "    X = Dropout(0.2)(X)\n",
    "    X = Dense(10, activation='softmax')(X)\n",
    "    \n",
    "    model = Model(X_input, X, name=name)\n",
    "    \n",
    "    return model\n",
    "    \n",
    "conv_model_with_dropout = conv_model_with_dropout((28, 28, 1))\n",
    "print(conv_model_with_dropout.summary())"
   ]
  },
  {
   "cell_type": "code",
   "execution_count": 21,
   "metadata": {},
   "outputs": [
    {
     "data": {
      "text/plain": [
       "Reusing TensorBoard on port 6012 (pid 5103), started 19:54:45 ago. (Use '!kill 5103' to kill it.)"
      ]
     },
     "metadata": {},
     "output_type": "display_data"
    },
    {
     "data": {
      "text/html": [
       "\n",
       "      <iframe id=\"tensorboard-frame-cfebd257e0b6b6fe\" width=\"100%\" height=\"800\" frameborder=\"0\">\n",
       "      </iframe>\n",
       "      <script>\n",
       "        (function() {\n",
       "          const frame = document.getElementById(\"tensorboard-frame-cfebd257e0b6b6fe\");\n",
       "          const url = new URL(\"/\", window.location);\n",
       "          const port = 6012;\n",
       "          if (port) {\n",
       "            url.port = port;\n",
       "          }\n",
       "          frame.src = url;\n",
       "        })();\n",
       "      </script>\n",
       "    "
      ],
      "text/plain": [
       "<IPython.core.display.HTML object>"
      ]
     },
     "metadata": {},
     "output_type": "display_data"
    },
    {
     "name": "stdout",
     "output_type": "stream",
     "text": [
      "Epoch 1/10\n",
      "  2/394 [..............................] - ETA: 30s - loss: 2.2957 - accuracy: 0.1133WARNING:tensorflow:Callbacks method `on_train_batch_end` is slow compared to the batch time (batch time: 0.0398s vs `on_train_batch_end` time: 0.1176s). Check your callbacks.\n",
      "394/394 [==============================] - 11s 27ms/step - loss: 0.3441 - accuracy: 0.8924 - val_loss: 0.0937 - val_accuracy: 0.9715\n",
      "Epoch 2/10\n",
      "394/394 [==============================] - 10s 25ms/step - loss: 0.1248 - accuracy: 0.9612 - val_loss: 0.0613 - val_accuracy: 0.9811\n",
      "Epoch 3/10\n",
      "394/394 [==============================] - 10s 25ms/step - loss: 0.0915 - accuracy: 0.9728 - val_loss: 0.0491 - val_accuracy: 0.9845\n",
      "Epoch 4/10\n",
      "394/394 [==============================] - 10s 25ms/step - loss: 0.0714 - accuracy: 0.9781 - val_loss: 0.0494 - val_accuracy: 0.9856\n",
      "Epoch 5/10\n",
      "394/394 [==============================] - 10s 24ms/step - loss: 0.0636 - accuracy: 0.9806 - val_loss: 0.0402 - val_accuracy: 0.9880\n",
      "Epoch 6/10\n",
      "394/394 [==============================] - 10s 24ms/step - loss: 0.0535 - accuracy: 0.9831 - val_loss: 0.0427 - val_accuracy: 0.9886\n",
      "Epoch 7/10\n",
      "394/394 [==============================] - 10s 24ms/step - loss: 0.0485 - accuracy: 0.9847 - val_loss: 0.0414 - val_accuracy: 0.9882\n",
      "Epoch 8/10\n",
      "394/394 [==============================] - 10s 24ms/step - loss: 0.0419 - accuracy: 0.9873 - val_loss: 0.0465 - val_accuracy: 0.9874\n",
      "Epoch 9/10\n",
      "394/394 [==============================] - 10s 24ms/step - loss: 0.0416 - accuracy: 0.9874 - val_loss: 0.0419 - val_accuracy: 0.9875\n",
      "Epoch 10/10\n",
      "394/394 [==============================] - 10s 25ms/step - loss: 0.0390 - accuracy: 0.9877 - val_loss: 0.0453 - val_accuracy: 0.9867\n",
      "313/313 [==============================] - 1s 4ms/step - loss: 0.0369 - accuracy: 0.9887\n"
     ]
    }
   ],
   "source": [
    "conv_model_with_dropout.compile(optimizer='adam', loss='categorical_crossentropy', metrics=['accuracy'])\n",
    "\n",
    "%tensorboard --logdir ./logs/conv_model_with_dropout/\n",
    "    \n",
    "history = conv_model_with_dropout.fit(x_train, y_train, batch_size=128, epochs=10, validation_split=0.16, \n",
    "                                      shuffle=True,\n",
    "                                      callbacks=[tf.keras.callbacks.TensorBoard(log_dir='./logs/conv_model_with_dropout/')])\n",
    "score = conv_model_with_dropout.evaluate(x_test, y_test)\n",
    "\n",
    "conv_model_with_dropout.save_weights('./models/conv_model_with_dropout.h5')"
   ]
  },
  {
   "cell_type": "code",
   "execution_count": 22,
   "metadata": {},
   "outputs": [
    {
     "name": "stdout",
     "output_type": "stream",
     "text": [
      "Accuracy on train set:  0.9876587390899658\n",
      "Accuracy on test set:  0.9886999726295471\n"
     ]
    }
   ],
   "source": [
    "print('Accuracy on train set: ', history.history['accuracy'][-1])\n",
    "print('Accuracy on test set: ', score[-1])"
   ]
  },
  {
   "cell_type": "markdown",
   "metadata": {},
   "source": [
    "Our model is now doing equally well on the train and test set so we can say that we successfully reduced (or even eliminated) the problem of overfitting the train set. We may look again at mislabelled examples and do our short error analysis as we did for the fully connected model."
   ]
  },
  {
   "cell_type": "code",
   "execution_count": 23,
   "metadata": {},
   "outputs": [
    {
     "name": "stdout",
     "output_type": "stream",
     "text": [
      "Number of wrong predictions:  113\n"
     ]
    },
    {
     "data": {
      "image/png": "[encoded data removed]",
      "text/plain": [
       "<Figure size 1152x144 with 8 Axes>"
      ]
     },
     "metadata": {
      "needs_background": "light"
     },
     "output_type": "display_data"
    }
   ],
   "source": [
    "plot_incorrect_preds(conv_model_with_dropout)"
   ]
  },
  {
   "cell_type": "code",
   "execution_count": 24,
   "metadata": {
    "scrolled": true
   },
   "outputs": [
    {
     "data": {
      "image/png": "[encoded data removed]",
      "text/plain": [
       "<Figure size 432x288 with 1 Axes>"
      ]
     },
     "metadata": {
      "needs_background": "light"
     },
     "output_type": "display_data"
    }
   ],
   "source": [
    "plot_preds_scatter(conv_model_with_dropout)"
   ]
  },
  {
   "cell_type": "markdown",
   "metadata": {},
   "source": [
    "Again, a four is often mistaken to be a nine. The number five seems to be mistaken for three and six relatively often and also there still is the problem that seix is confused with zero by the model. Let us look at the histograms again."
   ]
  },
  {
   "cell_type": "code",
   "execution_count": 25,
   "metadata": {},
   "outputs": [
    {
     "data": {
      "image/png": "[encoded data removed]",
      "text/plain": [
       "<Figure size 1152x288 with 2 Axes>"
      ]
     },
     "metadata": {
      "needs_background": "light"
     },
     "output_type": "display_data"
    }
   ],
   "source": [
    "plot_incorr_preds_hist(conv_model_with_dropout)"
   ]
  },
  {
   "cell_type": "markdown",
   "metadata": {},
   "source": [
    "They definitely confirm what we expected from the scatter plot. Five and nine are causing most of the errors. To improve the model, it will most likely be helpful to add more images of five and nine to the dataset, for exampe by augmenting the existing data. But instead of doing so, we will try improve the performance by adding batch normalization to our model."
   ]
  },
  {
   "cell_type": "markdown",
   "metadata": {},
   "source": [
    "## Adding batch normalization"
   ]
  },
  {
   "cell_type": "code",
   "execution_count": 26,
   "metadata": {},
   "outputs": [
    {
     "name": "stdout",
     "output_type": "stream",
     "text": [
      "Model: \"Convolutional_MNIST_model_with_dropout_and_batch_normalization\"\n",
      "_________________________________________________________________\n",
      "Layer (type)                 Output Shape              Param #   \n",
      "=================================================================\n",
      "input_4 (InputLayer)         [(None, 28, 28, 1)]       0         \n",
      "_________________________________________________________________\n",
      "batch_normalization (BatchNo (None, 28, 28, 1)         4         \n",
      "_________________________________________________________________\n",
      "conv2d_2 (Conv2D)            (None, 13, 13, 32)        544       \n",
      "_________________________________________________________________\n",
      "max_pooling2d_2 (MaxPooling2 (None, 7, 7, 32)          0         \n",
      "_________________________________________________________________\n",
      "dropout_3 (Dropout)          (None, 7, 7, 32)          0         \n",
      "_________________________________________________________________\n",
      "batch_normalization_1 (Batch (None, 7, 7, 32)          128       \n",
      "_________________________________________________________________\n",
      "flatten_3 (Flatten)          (None, 1568)              0         \n",
      "_________________________________________________________________\n",
      "dense_12 (Dense)             (None, 1024)              1606656   \n",
      "_________________________________________________________________\n",
      "dropout_4 (Dropout)          (None, 1024)              0         \n",
      "_________________________________________________________________\n",
      "dense_13 (Dense)             (None, 256)               262400    \n",
      "_________________________________________________________________\n",
      "batch_normalization_2 (Batch (None, 256)               1024      \n",
      "_________________________________________________________________\n",
      "dense_14 (Dense)             (None, 64)                16448     \n",
      "_________________________________________________________________\n",
      "dropout_5 (Dropout)          (None, 64)                0         \n",
      "_________________________________________________________________\n",
      "dense_15 (Dense)             (None, 10)                650       \n",
      "=================================================================\n",
      "Total params: 1,887,854\n",
      "Trainable params: 1,887,276\n",
      "Non-trainable params: 578\n",
      "_________________________________________________________________\n",
      "None\n"
     ]
    }
   ],
   "source": [
    "def conv_model_dropout_batchnorm(input_shape, name='Convolutional_MNIST_model_with_dropout_and_batch_normalization'):\n",
    "    \n",
    "    X_input = Input(input_shape)\n",
    "    X = X_input\n",
    "    \n",
    "    X = BatchNormalization()(X)\n",
    "    X = Conv2D(32, (4, 4), strides=2, activation='relu')(X)\n",
    "    X = MaxPooling2D(pool_size=(2, 2), strides=2, padding='same')(X)\n",
    "    X = Dropout(0.4)(X)\n",
    "    \n",
    "    X = BatchNormalization()(X)\n",
    "    X = Flatten()(X)\n",
    "    X = Dense(1024, activation='relu')(X)\n",
    "    X = Dropout(0.2)(X)\n",
    "    X = Dense(256, activation='relu')(X)\n",
    "    X = BatchNormalization()(X)\n",
    "    X = Dense(64, activation='relu')(X)\n",
    "    X = Dropout(0.2)(X)\n",
    "    X = Dense(10, activation='softmax')(X)\n",
    "    \n",
    "    \n",
    "    \n",
    "    model = Model(X_input, X, name=name)\n",
    "    \n",
    "    return model\n",
    "    \n",
    "conv_model_dropout_batchnorm = conv_model_dropout_batchnorm((28, 28, 1))\n",
    "print(conv_model_dropout_batchnorm.summary())"
   ]
  },
  {
   "cell_type": "code",
   "execution_count": 27,
   "metadata": {},
   "outputs": [
    {
     "data": {
      "text/plain": [
       "Reusing TensorBoard on port 6014 (pid 5806), started 18:09:34 ago. (Use '!kill 5806' to kill it.)"
      ]
     },
     "metadata": {},
     "output_type": "display_data"
    },
    {
     "data": {
      "text/html": [
       "\n",
       "      <iframe id=\"tensorboard-frame-64b86b798db00d51\" width=\"100%\" height=\"800\" frameborder=\"0\">\n",
       "      </iframe>\n",
       "      <script>\n",
       "        (function() {\n",
       "          const frame = document.getElementById(\"tensorboard-frame-64b86b798db00d51\");\n",
       "          const url = new URL(\"/\", window.location);\n",
       "          const port = 6014;\n",
       "          if (port) {\n",
       "            url.port = port;\n",
       "          }\n",
       "          frame.src = url;\n",
       "        })();\n",
       "      </script>\n",
       "    "
      ],
      "text/plain": [
       "<IPython.core.display.HTML object>"
      ]
     },
     "metadata": {},
     "output_type": "display_data"
    },
    {
     "name": "stdout",
     "output_type": "stream",
     "text": [
      "Epoch 1/15\n",
      "  2/394 [..............................] - ETA: 28s - loss: 2.7797 - accuracy: 0.1367WARNING:tensorflow:Callbacks method `on_train_batch_end` is slow compared to the batch time (batch time: 0.0409s vs `on_train_batch_end` time: 0.1058s). Check your callbacks.\n",
      "394/394 [==============================] - 15s 38ms/step - loss: 0.2977 - accuracy: 0.9090 - val_loss: 0.1389 - val_accuracy: 0.9672\n",
      "Epoch 2/15\n",
      "394/394 [==============================] - 15s 37ms/step - loss: 0.1215 - accuracy: 0.9624 - val_loss: 0.0562 - val_accuracy: 0.9836\n",
      "Epoch 3/15\n",
      "394/394 [==============================] - 15s 37ms/step - loss: 0.0877 - accuracy: 0.9729 - val_loss: 0.0494 - val_accuracy: 0.9865\n",
      "Epoch 4/15\n",
      "394/394 [==============================] - 15s 37ms/step - loss: 0.0761 - accuracy: 0.9765 - val_loss: 0.0549 - val_accuracy: 0.9820\n",
      "Epoch 5/15\n",
      "394/394 [==============================] - 15s 37ms/step - loss: 0.0668 - accuracy: 0.9794 - val_loss: 0.0437 - val_accuracy: 0.9873\n",
      "Epoch 6/15\n",
      "394/394 [==============================] - 14s 37ms/step - loss: 0.0576 - accuracy: 0.9814 - val_loss: 0.0416 - val_accuracy: 0.9873\n",
      "Epoch 7/15\n",
      "394/394 [==============================] - 15s 38ms/step - loss: 0.0510 - accuracy: 0.9840 - val_loss: 0.0504 - val_accuracy: 0.9873\n",
      "Epoch 8/15\n",
      "394/394 [==============================] - 16s 41ms/step - loss: 0.0452 - accuracy: 0.9858 - val_loss: 0.0387 - val_accuracy: 0.9902\n",
      "Epoch 9/15\n",
      "394/394 [==============================] - 15s 37ms/step - loss: 0.0449 - accuracy: 0.9859 - val_loss: 0.0459 - val_accuracy: 0.9876\n",
      "Epoch 10/15\n",
      "394/394 [==============================] - 15s 39ms/step - loss: 0.0405 - accuracy: 0.9869 - val_loss: 0.0408 - val_accuracy: 0.9891\n",
      "Epoch 11/15\n",
      "394/394 [==============================] - 14s 36ms/step - loss: 0.0397 - accuracy: 0.9874 - val_loss: 0.0400 - val_accuracy: 0.9893\n",
      "Epoch 12/15\n",
      "394/394 [==============================] - 14s 34ms/step - loss: 0.0367 - accuracy: 0.9887 - val_loss: 0.0358 - val_accuracy: 0.9905\n",
      "Epoch 13/15\n",
      "394/394 [==============================] - 14s 36ms/step - loss: 0.0359 - accuracy: 0.9890 - val_loss: 0.0359 - val_accuracy: 0.9904\n",
      "Epoch 14/15\n",
      "394/394 [==============================] - 14s 35ms/step - loss: 0.0335 - accuracy: 0.9892 - val_loss: 0.0380 - val_accuracy: 0.9900\n",
      "Epoch 15/15\n",
      "394/394 [==============================] - 15s 38ms/step - loss: 0.0293 - accuracy: 0.9904 - val_loss: 0.0375 - val_accuracy: 0.9896\n",
      "313/313 [==============================] - 1s 5ms/step - loss: 0.0343 - accuracy: 0.9900\n"
     ]
    }
   ],
   "source": [
    "conv_model_dropout_batchnorm.compile(optimizer='adam', loss='categorical_crossentropy', metrics=['accuracy'])\n",
    "\n",
    "%tensorboard --logdir ./logs/conv_model_dropout_batchnorm/\n",
    "    \n",
    "history = conv_model_dropout_batchnorm.fit(x_train, y_train, batch_size=128, epochs=15, validation_split=0.16, \n",
    "                                          shuffle=True,\n",
    "                                          callbacks=[tf.keras.callbacks.TensorBoard(log_dir='./logs/conv_model_dropout_batchnorm/')])\n",
    "score = conv_model_dropout_batchnorm.evaluate(x_test, y_test)\n",
    "\n",
    "conv_model_dropout_batchnorm.save_weights('./models/conv_model_with_dropout_and_batchnorm.h5')"
   ]
  },
  {
   "cell_type": "code",
   "execution_count": 28,
   "metadata": {},
   "outputs": [
    {
     "name": "stdout",
     "output_type": "stream",
     "text": [
      "Accuracy on train set:  0.9904166460037231\n",
      "Accuracy on test set:  0.9900000095367432\n"
     ]
    }
   ],
   "source": [
    "print('Accuracy on train set: ', history.history['accuracy'][-1])\n",
    "print('Accuracy on test set: ', score[-1])"
   ]
  },
  {
   "cell_type": "markdown",
   "metadata": {},
   "source": [
    "We improved from 98.8% to 99% percent accuracy which isn't a big improvement but also batch normalization did no harm. So we decide to keep it."
   ]
  },
  {
   "cell_type": "markdown",
   "metadata": {},
   "source": [
    "## A deep convolutional network"
   ]
  },
  {
   "cell_type": "markdown",
   "metadata": {},
   "source": [
    "As introducing a single convolutional layer worked out well, let us see how things are if we add many convolutional layer and try to learn the digit classification with a deep convolutional network. We will continue using dropout to prevent overfitting and batch normalization for (minor) performance improvement."
   ]
  },
  {
   "cell_type": "code",
   "execution_count": 35,
   "metadata": {},
   "outputs": [
    {
     "name": "stdout",
     "output_type": "stream",
     "text": [
      "Model: \"Deep_convolutional_MNIST_model\"\n",
      "_________________________________________________________________\n",
      "Layer (type)                 Output Shape              Param #   \n",
      "=================================================================\n",
      "input_6 (InputLayer)         [(None, 28, 28, 1)]       0         \n",
      "_________________________________________________________________\n",
      "batch_normalization_3 (Batch (None, 28, 28, 1)         4         \n",
      "_________________________________________________________________\n",
      "conv2d_13 (Conv2D)           (None, 28, 28, 8)         136       \n",
      "_________________________________________________________________\n",
      "conv2d_14 (Conv2D)           (None, 28, 28, 8)         72        \n",
      "_________________________________________________________________\n",
      "max_pooling2d_4 (MaxPooling2 (None, 14, 14, 8)         0         \n",
      "_________________________________________________________________\n",
      "conv2d_15 (Conv2D)           (None, 14, 14, 16)        2064      \n",
      "_________________________________________________________________\n",
      "conv2d_16 (Conv2D)           (None, 14, 14, 16)        272       \n",
      "_________________________________________________________________\n",
      "conv2d_17 (Conv2D)           (None, 7, 7, 32)          8224      \n",
      "_________________________________________________________________\n",
      "conv2d_18 (Conv2D)           (None, 7, 7, 32)          1056      \n",
      "_________________________________________________________________\n",
      "conv2d_19 (Conv2D)           (None, 4, 4, 64)          32832     \n",
      "_________________________________________________________________\n",
      "conv2d_20 (Conv2D)           (None, 4, 4, 64)          4160      \n",
      "_________________________________________________________________\n",
      "dropout_9 (Dropout)          (None, 4, 4, 64)          0         \n",
      "_________________________________________________________________\n",
      "conv2d_21 (Conv2D)           (None, 1, 1, 128)         131200    \n",
      "_________________________________________________________________\n",
      "conv2d_22 (Conv2D)           (None, 1, 1, 128)         16512     \n",
      "_________________________________________________________________\n",
      "dropout_10 (Dropout)         (None, 1, 1, 128)         0         \n",
      "_________________________________________________________________\n",
      "batch_normalization_4 (Batch (None, 1, 1, 128)         512       \n",
      "_________________________________________________________________\n",
      "flatten_5 (Flatten)          (None, 128)               0         \n",
      "_________________________________________________________________\n",
      "dense_20 (Dense)             (None, 64)                8256      \n",
      "_________________________________________________________________\n",
      "dense_21 (Dense)             (None, 32)                2080      \n",
      "_________________________________________________________________\n",
      "dense_22 (Dense)             (None, 16)                528       \n",
      "_________________________________________________________________\n",
      "dropout_11 (Dropout)         (None, 16)                0         \n",
      "_________________________________________________________________\n",
      "dense_23 (Dense)             (None, 10)                170       \n",
      "=================================================================\n",
      "Total params: 208,078\n",
      "Trainable params: 207,820\n",
      "Non-trainable params: 258\n",
      "_________________________________________________________________\n",
      "None\n"
     ]
    }
   ],
   "source": [
    "def deep_conv_model(input_shape, name='Deep_convolutional_MNIST_model'):\n",
    "    \n",
    "    X_input = Input(input_shape)\n",
    "    X = X_input\n",
    "    \n",
    "    X = BatchNormalization()(X)\n",
    "    X = Conv2D(8, (4, 4), activation='relu', padding='same')(X)\n",
    "    X = Conv2D(8, (1, 1), activation='relu')(X)\n",
    "    X = MaxPooling2D(pool_size=(2, 2), strides=2, padding='same')(X)\n",
    "    X = Conv2D(16, (4, 4), activation='relu', padding='same')(X)\n",
    "    X = Conv2D(16, (1, 1), activation='relu')(X)\n",
    "    X = Conv2D(32, (4, 4), strides=2, activation='relu', padding='same')(X)\n",
    "    X = Conv2D(32, (1, 1), activation='relu')(X)\n",
    "    X = Conv2D(64, (4, 4), strides=2, activation='relu', padding='same')(X)\n",
    "    X = Conv2D(64, (1, 1), activation='relu')(X)\n",
    "    X = Dropout(0.4)(X)\n",
    "    X = Conv2D(128, (4, 4), strides=2, activation='relu')(X)\n",
    "    X = Conv2D(128, (1, 1), activation='relu')(X)\n",
    "    X = Dropout(0.4)(X)\n",
    "    \n",
    "    X = BatchNormalization()(X)\n",
    "    X = Flatten()(X)\n",
    "    X = Dense(64, activation='relu')(X)\n",
    "    X = Dense(32, activation='relu')(X)\n",
    "    X = Dense(16, activation='relu')(X)\n",
    "    X = Dropout(0.2)(X)\n",
    "    X = Dense(10, activation='softmax')(X)\n",
    "    \n",
    "    \n",
    "    \n",
    "    model = Model(X_input, X, name=name)\n",
    "    \n",
    "    return model\n",
    "    \n",
    "deep_conv_model = deep_conv_model((28, 28, 1))\n",
    "print(deep_conv_model.summary())"
   ]
  },
  {
   "cell_type": "markdown",
   "metadata": {},
   "source": [
    "Note that altough this is a deep model, it has much fewer parameters than our previous model."
   ]
  },
  {
   "cell_type": "code",
   "execution_count": 36,
   "metadata": {},
   "outputs": [
    {
     "data": {
      "text/plain": [
       "Reusing TensorBoard on port 6010 (pid 2224), started 1 day, 0:04:08 ago. (Use '!kill 2224' to kill it.)"
      ]
     },
     "metadata": {},
     "output_type": "display_data"
    },
    {
     "data": {
      "text/html": [
       "\n",
       "      <iframe id=\"tensorboard-frame-837e743369cd7c99\" width=\"100%\" height=\"800\" frameborder=\"0\">\n",
       "      </iframe>\n",
       "      <script>\n",
       "        (function() {\n",
       "          const frame = document.getElementById(\"tensorboard-frame-837e743369cd7c99\");\n",
       "          const url = new URL(\"/\", window.location);\n",
       "          const port = 6010;\n",
       "          if (port) {\n",
       "            url.port = port;\n",
       "          }\n",
       "          frame.src = url;\n",
       "        })();\n",
       "      </script>\n",
       "    "
      ],
      "text/plain": [
       "<IPython.core.display.HTML object>"
      ]
     },
     "metadata": {},
     "output_type": "display_data"
    },
    {
     "name": "stdout",
     "output_type": "stream",
     "text": [
      "Epoch 1/15\n",
      "  2/394 [..............................] - ETA: 38s - loss: 2.3077 - accuracy: 0.1055WARNING:tensorflow:Callbacks method `on_train_batch_end` is slow compared to the batch time (batch time: 0.0729s vs `on_train_batch_end` time: 0.1239s). Check your callbacks.\n",
      "394/394 [==============================] - 30s 77ms/step - loss: 0.6725 - accuracy: 0.7854 - val_loss: 0.1066 - val_accuracy: 0.9716\n",
      "Epoch 2/15\n",
      "394/394 [==============================] - 29s 73ms/step - loss: 0.1935 - accuracy: 0.9498 - val_loss: 0.1011 - val_accuracy: 0.9772\n",
      "Epoch 3/15\n",
      "394/394 [==============================] - 28s 70ms/step - loss: 0.1384 - accuracy: 0.9661 - val_loss: 0.0618 - val_accuracy: 0.9849\n",
      "Epoch 4/15\n",
      "394/394 [==============================] - 28s 70ms/step - loss: 0.1126 - accuracy: 0.9711 - val_loss: 0.0623 - val_accuracy: 0.9868\n",
      "Epoch 5/15\n",
      "394/394 [==============================] - 28s 71ms/step - loss: 0.0963 - accuracy: 0.9764 - val_loss: 0.0698 - val_accuracy: 0.9841\n",
      "Epoch 6/15\n",
      "394/394 [==============================] - 28s 70ms/step - loss: 0.0895 - accuracy: 0.9783 - val_loss: 0.0613 - val_accuracy: 0.9853\n",
      "Epoch 7/15\n",
      "394/394 [==============================] - 28s 71ms/step - loss: 0.0791 - accuracy: 0.9788 - val_loss: 0.0606 - val_accuracy: 0.9864\n",
      "Epoch 8/15\n",
      "394/394 [==============================] - 29s 72ms/step - loss: 0.0720 - accuracy: 0.9823 - val_loss: 0.0468 - val_accuracy: 0.9891\n",
      "Epoch 9/15\n",
      "394/394 [==============================] - 29s 74ms/step - loss: 0.0672 - accuracy: 0.9833 - val_loss: 0.0432 - val_accuracy: 0.9897\n",
      "Epoch 10/15\n",
      "394/394 [==============================] - 28s 70ms/step - loss: 0.0615 - accuracy: 0.9846 - val_loss: 0.0538 - val_accuracy: 0.9870\n",
      "Epoch 11/15\n",
      "394/394 [==============================] - 29s 73ms/step - loss: 0.0579 - accuracy: 0.9851 - val_loss: 0.0740 - val_accuracy: 0.9827\n",
      "Epoch 12/15\n",
      "394/394 [==============================] - 28s 71ms/step - loss: 0.0569 - accuracy: 0.9862 - val_loss: 0.0665 - val_accuracy: 0.9853\n",
      "Epoch 13/15\n",
      "394/394 [==============================] - 28s 72ms/step - loss: 0.0516 - accuracy: 0.9873 - val_loss: 0.0485 - val_accuracy: 0.9904\n",
      "Epoch 14/15\n",
      "394/394 [==============================] - 28s 72ms/step - loss: 0.0478 - accuracy: 0.9878 - val_loss: 0.0444 - val_accuracy: 0.9900\n",
      "Epoch 15/15\n",
      "394/394 [==============================] - 28s 72ms/step - loss: 0.0433 - accuracy: 0.9885 - val_loss: 0.0531 - val_accuracy: 0.9906\n",
      "313/313 [==============================] - 1s 4ms/step - loss: 0.0451 - accuracy: 0.9898\n"
     ]
    }
   ],
   "source": [
    "deep_conv_model.compile(optimizer='adam', loss='categorical_crossentropy', metrics=['accuracy'])\n",
    "\n",
    "%tensorboard --logdir ./logs/deep_conv_model/\n",
    "    \n",
    "history = deep_conv_model.fit(x_train, y_train, batch_size=128, epochs=15, validation_split=0.16, shuffle=True,\n",
    "                              callbacks=[tf.keras.callbacks.TensorBoard(log_dir='./logs/deep_conv_model/')])\n",
    "score = deep_conv_model.evaluate(x_test, y_test)\n",
    "\n",
    "deep_conv_model.save_weights('./models/deep_conv_model.h5')"
   ]
  },
  {
   "cell_type": "code",
   "execution_count": 37,
   "metadata": {
    "scrolled": true
   },
   "outputs": [
    {
     "name": "stdout",
     "output_type": "stream",
     "text": [
      "Accuracy on train set:  0.9884920716285706\n",
      "Accuracy on test set:  0.989799976348877\n"
     ]
    }
   ],
   "source": [
    "print('Accuracy on train set: ', history.history['accuracy'][-1])\n",
    "print('Accuracy on test set: ', score[-1])"
   ]
  },
  {
   "cell_type": "markdown",
   "metadata": {},
   "source": [
    "This model performs similarly well as the model with only one convolutional layer, dropout and batch normalization."
   ]
  },
  {
   "cell_type": "code",
   "execution_count": 38,
   "metadata": {},
   "outputs": [
    {
     "name": "stdout",
     "output_type": "stream",
     "text": [
      "Number of wrong predictions:  102\n"
     ]
    },
    {
     "data": {
      "image/png": "[encoded data removed]",
      "text/plain": [
       "<Figure size 1152x144 with 8 Axes>"
      ]
     },
     "metadata": {
      "needs_background": "light"
     },
     "output_type": "display_data"
    }
   ],
   "source": [
    "plot_incorrect_preds(deep_conv_model)"
   ]
  },
  {
   "cell_type": "code",
   "execution_count": 39,
   "metadata": {
    "scrolled": true
   },
   "outputs": [
    {
     "data": {
      "image/png": "[encoded data removed]",
      "text/plain": [
       "<Figure size 432x288 with 1 Axes>"
      ]
     },
     "metadata": {
      "needs_background": "light"
     },
     "output_type": "display_data"
    }
   ],
   "source": [
    "plot_preds_scatter(deep_conv_model)"
   ]
  },
  {
   "cell_type": "markdown",
   "metadata": {},
   "source": [
    "Some of the wrong predictions seem a high confidence. The scatter plot reveals that a zero is often mistaken to be a six and that eight and nine get mispredicted much more often than other digits."
   ]
  },
  {
   "cell_type": "code",
   "execution_count": 41,
   "metadata": {},
   "outputs": [
    {
     "data": {
      "image/png": "[encoded data removed]",
      "text/plain": [
       "<Figure size 1152x288 with 2 Axes>"
      ]
     },
     "metadata": {
      "needs_background": "light"
     },
     "output_type": "display_data"
    }
   ],
   "source": [
    "plot_incorr_preds_hist(deep_conv_model)"
   ]
  },
  {
   "cell_type": "markdown",
   "metadata": {},
   "source": [
    "The histograms confirm this, 8 and nine are clearly causing more false predictions than other numbers."
   ]
  },
  {
   "cell_type": "markdown",
   "metadata": {},
   "source": [
    "As we mentioned before, this is not the end of the story but rather a starting point: as we have two models performing well (99% acuracy) on the MNIST dataset, we can try to fine-tune the models. For this, data augmentation seems to be a good starting point. There clearly are some digits that cause more problems than others so we should give the models more examples of these digits to learn and to improve.\n",
    "\n",
    "But aside from this, reaching 99% on the MNIST dataset with only a little bit of training, no extensive data preprocessing and no fine-tuning is quite a good result in our opinion."
   ]
  }
 ],
 "metadata": {
  "kernelspec": {
   "display_name": "Python 3",
   "language": "python",
   "name": "python3"
  },
  "language_info": {
   "codemirror_mode": {
    "name": "ipython",
    "version": 3
   },
   "file_extension": ".py",
   "mimetype": "text/x-python",
   "name": "python",
   "nbconvert_exporter": "python",
   "pygments_lexer": "ipython3",
   "version": "3.6.12"
  }
 },
 "nbformat": 4,
 "nbformat_minor": 4
}
