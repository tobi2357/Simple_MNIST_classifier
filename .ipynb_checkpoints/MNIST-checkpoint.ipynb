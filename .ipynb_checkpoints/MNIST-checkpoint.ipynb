{
 "cells": [
  {
   "cell_type": "markdown",
   "metadata": {},
   "source": [
    "# A simple MNIST classifier"
   ]
  },
  {
   "cell_type": "markdown",
   "metadata": {},
   "source": [
    "In this little notebook we will train neural networks on the MNIST dataset. We begin with a simple fully connected network and afterwards compare it to a convolutional neural network. For the latter we look at three different possibilies of changing the network architecture in order to improve model performance. We also do a little bit of error analysis and point at ways to improve the networks though we do not go in these direction at all."
   ]
  },
  {
   "cell_type": "markdown",
   "metadata": {},
   "source": [
    "We begin by loading the basic libraries and modules we are going to use. If you wish to train your model on an AMD graphics card, you may want to have a look at plaidml and change the first cell accordingly. Also if you don't want to use tensorboard feel free to delete the respective lines of code using it."
   ]
  },
  {
   "cell_type": "code",
   "execution_count": 1,
   "metadata": {},
   "outputs": [
    {
     "name": "stderr",
     "output_type": "stream",
     "text": [
      "Using TensorFlow backend.\n"
     ]
    }
   ],
   "source": [
    "import os\n",
    "import tensorflow as tf\n",
    "import tensorflow.keras as keras\n",
    "import PIL\n",
    "import numpy as np\n",
    "import pandas as pd\n",
    "\n",
    "from IPython.display import Image\n",
    "from tensorflow.keras.models import Model\n",
    "from tensorflow.keras.layers import Conv2D, Dense, MaxPooling2D, Input, Flatten, BatchNormalization, Dropout\n",
    "import matplotlib.pyplot as plt\n",
    "from keras.utils import to_categorical\n",
    "\n",
    "keras.backend.set_image_data_format('channels_last')\n",
    "\n",
    "%load_ext tensorboard"
   ]
  },
  {
   "cell_type": "code",
   "execution_count": 4,
   "metadata": {},
   "outputs": [],
   "source": [
    "def one_hot_to_label(pred):\n",
    "    return np.argmax(pred)\n",
    "\n",
    "def plot_accuracy(history):\n",
    "    plt.plot(history.history['accuracy'])\n",
    "    plt.plot(history.history['val_accuracy'])\n",
    "    plt.title('model accuracy')\n",
    "    plt.ylabel('accuracy')\n",
    "    plt.xlabel('epoch')\n",
    "    plt.legend(['train', 'val'], loc='upper left')\n",
    "    plt.show()\n",
    "    \n",
    "def plot_loss(history):\n",
    "    plt.plot(history.history['loss'])\n",
    "    plt.plot(history.history['val_loss'])\n",
    "    plt.title('model loss')\n",
    "    plt.ylabel('loss')\n",
    "    plt.xlabel('epoch')\n",
    "    plt.legend(['train', 'val'], loc='upper left')\n",
    "    plt.show()"
   ]
  },
  {
   "cell_type": "markdown",
   "metadata": {},
   "source": [
    "Now, let us load the MNIST dataset. Luckily, it is part of the keras datasets so we can just load it with a simple command."
   ]
  },
  {
   "cell_type": "code",
   "execution_count": 2,
   "metadata": {},
   "outputs": [
    {
     "name": "stdout",
     "output_type": "stream",
     "text": [
      "Number of training samples:  60000\n",
      "Number of test samples:  10000\n"
     ]
    }
   ],
   "source": [
    "(x_train, y_train), (x_test, y_test) = keras.datasets.mnist.load_data()\n",
    "\n",
    "print('Number of training samples: ', x_train.shape[0])\n",
    "print('Number of test samples: ', x_test.shape[0])"
   ]
  },
  {
   "cell_type": "markdown",
   "metadata": {},
   "source": [
    "After loading the dataset, let us have a look at the data we have."
   ]
  },
  {
   "cell_type": "code",
   "execution_count": 3,
   "metadata": {
    "scrolled": true
   },
   "outputs": [
    {
     "data": {
      "image/png": "[encoded data removed]",
      "text/plain": [
       "<Figure size 1152x144 with 8 Axes>"
      ]
     },
     "metadata": {
      "needs_background": "light"
     },
     "output_type": "display_data"
    }
   ],
   "source": [
    "fig, axes = plt.subplots(1, 8, figsize=(16, 2))\n",
    "for ind, ax in enumerate(axes.flat):\n",
    "    ax.set_axis_off()\n",
    "    ax.imshow(x_train[ind], cmap=plt.get_cmap('gray'))\n",
    "    ax.set_title('Label: ' + str(y_train[ind]))"
   ]
  },
  {
   "cell_type": "markdown",
   "metadata": {},
   "source": [
    "Ok, so these are pictures of handwritten images, each 28x28 pixels and with greyscale values."
   ]
  },
  {
   "cell_type": "markdown",
   "metadata": {},
   "source": [
    "## Data preprocessing"
   ]
  },
  {
   "cell_type": "markdown",
   "metadata": {},
   "source": [
    "There isn't much data preprocessing necessary for this dataset. But converting the pixel values to numbers between 0 and 1 is definitely something we can do easily and which speeds up training quite a bit. So let us do so."
   ]
  },
  {
   "cell_type": "code",
   "execution_count": 5,
   "metadata": {},
   "outputs": [],
   "source": [
    "def preprocess_data(x, y):\n",
    "    x = x.astype('float32')\n",
    "    x = x.reshape((x.shape[0], 28, 28, 1)) # add extra dimension to use conv2d in the model\n",
    "    x = x/255 # normalize to values between 0 and 1\n",
    "    \n",
    "    y = to_categorical(y) # one hot encoding\n",
    "    return x, y\n",
    "    "
   ]
  },
  {
   "cell_type": "code",
   "execution_count": 6,
   "metadata": {},
   "outputs": [],
   "source": [
    "x_train, y_train = preprocess_data(x_train, y_train)\n",
    "x_test, y_test = preprocess_data(x_test, y_test)"
   ]
  },
  {
   "cell_type": "markdown",
   "metadata": {},
   "source": [
    "## Fully connected model"
   ]
  },
  {
   "cell_type": "markdown",
   "metadata": {},
   "source": [
    "Let us start by defining a fully connected network as first model. We take the input image (28x28x1), flatten it into a fully connected layer of size 28\\*28=784 and then reduce its size by a factor of four in each step."
   ]
  },
  {
   "cell_type": "code",
   "execution_count": 7,
   "metadata": {},
   "outputs": [
    {
     "name": "stdout",
     "output_type": "stream",
     "text": [
      "Model: \"MNIST_fully_connected\"\n",
      "_________________________________________________________________\n",
      "Layer (type)                 Output Shape              Param #   \n",
      "=================================================================\n",
      "input_1 (InputLayer)         [(None, 28, 28, 1)]       0         \n",
      "_________________________________________________________________\n",
      "flatten (Flatten)            (None, 784)               0         \n",
      "_________________________________________________________________\n",
      "dense (Dense)                (None, 512)               401920    \n",
      "_________________________________________________________________\n",
      "dense_1 (Dense)              (None, 128)               65664     \n",
      "_________________________________________________________________\n",
      "dense_2 (Dense)              (None, 32)                4128      \n",
      "_________________________________________________________________\n",
      "dense_3 (Dense)              (None, 10)                330       \n",
      "=================================================================\n",
      "Total params: 472,042\n",
      "Trainable params: 472,042\n",
      "Non-trainable params: 0\n",
      "_________________________________________________________________\n",
      "None\n"
     ]
    }
   ],
   "source": [
    "def fully_connected_model(input_shape, name='MNIST_fully_connected'):\n",
    "    \n",
    "    X_input = Input(input_shape)\n",
    "    X = X_input\n",
    "    \n",
    "    X = Flatten()(X) # fully connected layer with 784 nodes\n",
    "    \n",
    "    # reduce by factor of four in each layer\n",
    "    X = Dense(512, activation='relu')(X)\n",
    "    X = Dense(128, activation='relu')(X)\n",
    "    X = Dense(32, activation='relu')(X)\n",
    "    X = Dense(10, activation='softmax')(X)\n",
    "\n",
    "    model = Model(X_input, X, name=name)\n",
    "    \n",
    "    return model\n",
    "    \n",
    "fully_connected_model = fully_connected_model((28, 28, 1))\n",
    "print(fully_connected_model.summary())"
   ]
  },
  {
   "cell_type": "markdown",
   "metadata": {},
   "source": [
    "Alright, so we have 472,042 parameters and four hidden layers. Let's see how well our model performs after some training!"
   ]
  },
  {
   "cell_type": "markdown",
   "metadata": {},
   "source": [
    "## Training and Evaluation"
   ]
  },
  {
   "cell_type": "code",
   "execution_count": 8,
   "metadata": {},
   "outputs": [],
   "source": [
    "fully_connected_model.compile(optimizer='adam', loss='categorical_crossentropy', metrics=['accuracy'])"
   ]
  },
  {
   "cell_type": "code",
   "execution_count": 9,
   "metadata": {
    "scrolled": false
   },
   "outputs": [
    {
     "data": {
      "text/html": [
       "\n",
       "      <iframe id=\"tensorboard-frame-9dee4df858b7fd10\" width=\"100%\" height=\"800\" frameborder=\"0\">\n",
       "      </iframe>\n",
       "      <script>\n",
       "        (function() {\n",
       "          const frame = document.getElementById(\"tensorboard-frame-9dee4df858b7fd10\");\n",
       "          const url = new URL(\"/\", window.location);\n",
       "          const port = 6013;\n",
       "          if (port) {\n",
       "            url.port = port;\n",
       "          }\n",
       "          frame.src = url;\n",
       "        })();\n",
       "      </script>\n",
       "    "
      ],
      "text/plain": [
       "<IPython.core.display.HTML object>"
      ]
     },
     "metadata": {},
     "output_type": "display_data"
    },
    {
     "name": "stdout",
     "output_type": "stream",
     "text": [
      "Epoch 1/15\n",
      "  1/394 [..............................] - ETA: 0s - loss: 2.3883 - accuracy: 0.1406WARNING:tensorflow:From /Users/heckel/opt/anaconda3/envs/MNIST/lib/python3.6/site-packages/tensorflow/python/ops/summary_ops_v2.py:1277: stop (from tensorflow.python.eager.profiler) is deprecated and will be removed after 2020-07-01.\n",
      "Instructions for updating:\n",
      "use `tf.profiler.experimental.stop` instead.\n",
      "WARNING:tensorflow:Callbacks method `on_train_batch_end` is slow compared to the batch time (batch time: 0.0040s vs `on_train_batch_end` time: 0.0164s). Check your callbacks.\n",
      "394/394 [==============================] - 2s 5ms/step - loss: 0.3053 - accuracy: 0.9107 - val_loss: 0.1295 - val_accuracy: 0.9650\n",
      "Epoch 2/15\n",
      "394/394 [==============================] - 1s 4ms/step - loss: 0.1052 - accuracy: 0.9681 - val_loss: 0.0914 - val_accuracy: 0.9744\n",
      "Epoch 3/15\n",
      "394/394 [==============================] - 1s 4ms/step - loss: 0.0671 - accuracy: 0.9797 - val_loss: 0.0783 - val_accuracy: 0.9780\n",
      "Epoch 4/15\n",
      "394/394 [==============================] - 1s 4ms/step - loss: 0.0480 - accuracy: 0.9852 - val_loss: 0.0793 - val_accuracy: 0.9770\n",
      "Epoch 5/15\n",
      "394/394 [==============================] - 1s 4ms/step - loss: 0.0335 - accuracy: 0.9897 - val_loss: 0.0744 - val_accuracy: 0.9793\n",
      "Epoch 6/15\n",
      "394/394 [==============================] - 1s 4ms/step - loss: 0.0278 - accuracy: 0.9910 - val_loss: 0.0860 - val_accuracy: 0.9769\n",
      "Epoch 7/15\n",
      "394/394 [==============================] - 1s 4ms/step - loss: 0.0203 - accuracy: 0.9932 - val_loss: 0.0801 - val_accuracy: 0.9796\n",
      "Epoch 8/15\n",
      "394/394 [==============================] - 1s 4ms/step - loss: 0.0181 - accuracy: 0.9938 - val_loss: 0.0922 - val_accuracy: 0.9783\n",
      "Epoch 9/15\n",
      "394/394 [==============================] - 2s 4ms/step - loss: 0.0153 - accuracy: 0.9949 - val_loss: 0.0865 - val_accuracy: 0.9798\n",
      "Epoch 10/15\n",
      "394/394 [==============================] - 1s 4ms/step - loss: 0.0158 - accuracy: 0.9947 - val_loss: 0.0973 - val_accuracy: 0.9776\n",
      "Epoch 11/15\n",
      "394/394 [==============================] - 2s 4ms/step - loss: 0.0130 - accuracy: 0.9954 - val_loss: 0.1118 - val_accuracy: 0.9762\n",
      "Epoch 12/15\n",
      "394/394 [==============================] - 2s 4ms/step - loss: 0.0112 - accuracy: 0.9964 - val_loss: 0.0956 - val_accuracy: 0.9811\n",
      "Epoch 13/15\n",
      "394/394 [==============================] - 1s 4ms/step - loss: 0.0120 - accuracy: 0.9961 - val_loss: 0.1099 - val_accuracy: 0.9741\n",
      "Epoch 14/15\n",
      "394/394 [==============================] - 2s 4ms/step - loss: 0.0133 - accuracy: 0.9959 - val_loss: 0.0979 - val_accuracy: 0.9795\n",
      "Epoch 15/15\n",
      "394/394 [==============================] - 1s 4ms/step - loss: 0.0099 - accuracy: 0.9965 - val_loss: 0.1044 - val_accuracy: 0.9791\n",
      "313/313 [==============================] - 0s 2ms/step - loss: 0.0944 - accuracy: 0.9785\n"
     ]
    }
   ],
   "source": [
    "%tensorboard --logdir ./logs/fully_connected_model/\n",
    "history = fully_connected_model.fit(x_train, y_train, batch_size=128, epochs=15, validation_split=0.16, shuffle=True, \n",
    "                    callbacks=[tf.keras.callbacks.TensorBoard(log_dir='./logs/fully_connected_model/')])\n",
    "score = fully_connected_model.evaluate(x_test, y_test)\n",
    "\n",
    "fully_connexted_model.save('./models/')"
   ]
  },
  {
   "cell_type": "markdown",
   "metadata": {},
   "source": [
    "So how does our model perform? Let's have a look at the graphs and scores (if you are using tensorboard, you have seen the graphs already)."
   ]
  },
  {
   "cell_type": "code",
   "execution_count": 10,
   "metadata": {},
   "outputs": [
    {
     "data": {
      "image/png": "[encoded data removed]",
      "text/plain": [
       "<Figure size 432x288 with 1 Axes>"
      ]
     },
     "metadata": {
      "needs_background": "light"
     },
     "output_type": "display_data"
    },
    {
     "data": {
      "image/png": "[encoded data removed]",
      "text/plain": [
       "<Figure size 432x288 with 1 Axes>"
      ]
     },
     "metadata": {
      "needs_background": "light"
     },
     "output_type": "display_data"
    }
   ],
   "source": [
    "plot_accuracy(history)\n",
    "plot_loss(history)"
   ]
  },
  {
   "cell_type": "code",
   "execution_count": 11,
   "metadata": {
    "scrolled": true
   },
   "outputs": [
    {
     "name": "stdout",
     "output_type": "stream",
     "text": [
      "Accuracy on train set:  0.996488094329834\n",
      "Accuracy on test set:  0.9785000085830688\n"
     ]
    }
   ],
   "source": [
    "print('Accuracy on train set: ', history.history['accuracy'][-1])\n",
    "print('Accuracy on test set: ', score[-1])"
   ]
  },
  {
   "cell_type": "markdown",
   "metadata": {},
   "source": [
    "We have 98.2% accuracy on the test set which is already quite good. On the train set we achieve 99.5% accuracy which is much more. So our model seems to overfit the training set!"
   ]
  },
  {
   "cell_type": "markdown",
   "metadata": {},
   "source": [
    "Let us have a brief look at examples the model was not predicting correctly."
   ]
  },
  {
   "cell_type": "code",
   "execution_count": 12,
   "metadata": {},
   "outputs": [
    {
     "name": "stdout",
     "output_type": "stream",
     "text": [
      "Number of wrong predictions:  215\n"
     ]
    },
    {
     "data": {
      "image/png": "[encoded data removed]",
      "text/plain": [
       "<Figure size 1152x144 with 8 Axes>"
      ]
     },
     "metadata": {
      "needs_background": "light"
     },
     "output_type": "display_data"
    }
   ],
   "source": [
    "def plot_incorrect_preds(model):\n",
    "    pred = model.predict(x_test)\n",
    "    pred_labels = np.argmax(pred, axis=1)\n",
    "    true_labels = np.argmax(y_test, axis=1)\n",
    "\n",
    "    incorrect = np.where(pred_labels != true_labels)[0]\n",
    "    print('Number of wrong predictions: ', len(incorrect))\n",
    "    \n",
    "    fig, axes = plt.subplots(1, 8, figsize=(16, 2))\n",
    "    for ind, ax in enumerate(axes.flat):\n",
    "        ind = incorrect[ind]\n",
    "        ax.set_axis_off()\n",
    "        ax.imshow(x_test[ind], cmap=plt.get_cmap('gray'))\n",
    "        true_label = one_hot_to_label(y_test[ind])\n",
    "        predicted_label = one_hot_to_label(pred[ind])\n",
    "        confidence = pred[ind, predicted_label]\n",
    "        ax.set_title('Label: %s\\nPrediction: %s\\nConfidence %1.2f' %(true_label, predicted_label, confidence))\n",
    "        \n",
    "plot_incorrect_preds(fully_connected_model)"
   ]
  },
  {
   "cell_type": "markdown",
   "metadata": {},
   "source": [
    "This shows 176 wrong predictions in total. At least among our examples, some of them even have a very high confidence.\n",
    "Let us try to see if we can discover some systematic error in our models prediction. To to so, we plot predictions versus ground truth and inicate the number of samples at a point (truth, prediction) by its color itensity."
   ]
  },
  {
   "cell_type": "code",
   "execution_count": 13,
   "metadata": {},
   "outputs": [
    {
     "data": {
      "image/png": "[encoded data removed]",
      "text/plain": [
       "<Figure size 432x288 with 1 Axes>"
      ]
     },
     "metadata": {
      "needs_background": "light"
     },
     "output_type": "display_data"
    }
   ],
   "source": [
    "def plot_preds_scatter(model):\n",
    "    pred = model.predict(x_test)\n",
    "    pred_labels = np.argmax(pred, axis=1)\n",
    "    true_labels = np.argmax(y_test, axis=1)\n",
    "    \n",
    "    df = pd.DataFrame(true_labels, columns=['Truth'])\n",
    "    df['Prediction'] = pred_labels\n",
    "    df['Incorrect'] = np.where(df['Truth'] == df['Prediction'], False, True)\n",
    "    df_incorr = df.loc[df.Incorrect].reset_index(drop=True)\n",
    "    \n",
    "    df_incorr.plot(x='Truth', y='Prediction', kind='scatter', alpha=.1, s=50, title='')\n",
    "    \n",
    "plot_preds_scatter(fully_connected_model)"
   ]
  },
  {
   "cell_type": "markdown",
   "metadata": {},
   "source": [
    "This reveals, for example, that a two is often mistaken for an eight by the model, a three for a five, and also a nine for a five. We may also have a look at how often number are predicted incorrectly and how many incorrect predictions are there per number."
   ]
  },
  {
   "cell_type": "code",
   "execution_count": 14,
   "metadata": {},
   "outputs": [
    {
     "data": {
      "image/png": "[encoded data removed]",
      "text/plain": [
       "<Figure size 1152x288 with 2 Axes>"
      ]
     },
     "metadata": {
      "needs_background": "light"
     },
     "output_type": "display_data"
    }
   ],
   "source": [
    "def plot_incorr_preds_hist(model):\n",
    "    pred = model.predict(x_test)\n",
    "    pred_labels = np.argmax(pred, axis=1)\n",
    "    true_labels = np.argmax(y_test, axis=1)\n",
    "    \n",
    "    df = pd.DataFrame(true_labels, columns=['Truth'])\n",
    "    df['Prediction'] = pred_labels\n",
    "    df['Incorrect'] = np.where(df['Truth'] == df['Prediction'], False, True)\n",
    "    df_incorr = df.loc[df.Incorrect].reset_index(drop=True)\n",
    "    \n",
    "    df_incorr.hist(column=['Truth', 'Prediction'], figsize=(16, 4), grid=False)\n",
    "\n",
    "plot_incorr_preds_hist(fully_connected_model)"
   ]
  },
  {
   "cell_type": "markdown",
   "metadata": {},
   "source": [
    "The numbers three and nine are seen to cause most of the mispredictions but the model also isn't doing too well on three, seven and eight. If a seven is predicted, this is more often false than for other numbers."
   ]
  },
  {
   "cell_type": "markdown",
   "metadata": {},
   "source": [
    "## A convolutional model"
   ]
  },
  {
   "cell_type": "markdown",
   "metadata": {},
   "source": [
    "For computer vision tasks (as recognizing digits in images) convolutional networks usually perform better as it is possible for them to learn patterns. So let us set up a new model with one convolutional layer followed by dense layers, reducing the the size by four in each step, just as before."
   ]
  },
  {
   "cell_type": "code",
   "execution_count": 15,
   "metadata": {
    "scrolled": true
   },
   "outputs": [
    {
     "name": "stdout",
     "output_type": "stream",
     "text": [
      "Model: \"Convolutional_MNIST_model\"\n",
      "_________________________________________________________________\n",
      "Layer (type)                 Output Shape              Param #   \n",
      "=================================================================\n",
      "input_2 (InputLayer)         [(None, 28, 28, 1)]       0         \n",
      "_________________________________________________________________\n",
      "conv2d (Conv2D)              (None, 13, 13, 32)        544       \n",
      "_________________________________________________________________\n",
      "max_pooling2d (MaxPooling2D) (None, 7, 7, 32)          0         \n",
      "_________________________________________________________________\n",
      "flatten_1 (Flatten)          (None, 1568)              0         \n",
      "_________________________________________________________________\n",
      "dense_4 (Dense)              (None, 1024)              1606656   \n",
      "_________________________________________________________________\n",
      "dense_5 (Dense)              (None, 256)               262400    \n",
      "_________________________________________________________________\n",
      "dense_6 (Dense)              (None, 64)                16448     \n",
      "_________________________________________________________________\n",
      "dense_7 (Dense)              (None, 10)                650       \n",
      "=================================================================\n",
      "Total params: 1,886,698\n",
      "Trainable params: 1,886,698\n",
      "Non-trainable params: 0\n",
      "_________________________________________________________________\n",
      "None\n"
     ]
    }
   ],
   "source": [
    "def conv_model(input_shape, name='Convolutional_MNIST_model'):\n",
    "    \n",
    "    X_input = Input(input_shape)\n",
    "    X = X_input\n",
    "    \n",
    "    X = Conv2D(32, (4, 4), strides=2)(X)\n",
    "    X = MaxPooling2D(pool_size=(2, 2), strides=2, padding='same')(X)\n",
    "    \n",
    "    X = Flatten()(X)\n",
    "    X = Dense(1024, activation='relu')(X)\n",
    "    X = Dense(256, activation='relu')(X)\n",
    "    X = Dense(64, activation='relu')(X)\n",
    "    X = Dense(10, activation='softmax')(X)\n",
    "    \n",
    "    \n",
    "    \n",
    "    model = Model(X_input, X, name=name)\n",
    "    \n",
    "    return model\n",
    "    \n",
    "conv_model = conv_model((28, 28, 1))\n",
    "print(conv_model.summary())"
   ]
  },
  {
   "cell_type": "markdown",
   "metadata": {},
   "source": [
    "Now let's train this model."
   ]
  },
  {
   "cell_type": "code",
   "execution_count": 16,
   "metadata": {},
   "outputs": [],
   "source": [
    "conv_model.compile(optimizer='adam', loss='categorical_crossentropy', metrics=['accuracy'])"
   ]
  },
  {
   "cell_type": "code",
   "execution_count": 17,
   "metadata": {},
   "outputs": [
    {
     "data": {
      "text/plain": [
       "Reusing TensorBoard on port 6011 (pid 5031), started 1:50:47 ago. (Use '!kill 5031' to kill it.)"
      ]
     },
     "metadata": {},
     "output_type": "display_data"
    },
    {
     "data": {
      "text/html": [
       "\n",
       "      <iframe id=\"tensorboard-frame-850fb48f4004f237\" width=\"100%\" height=\"800\" frameborder=\"0\">\n",
       "      </iframe>\n",
       "      <script>\n",
       "        (function() {\n",
       "          const frame = document.getElementById(\"tensorboard-frame-850fb48f4004f237\");\n",
       "          const url = new URL(\"/\", window.location);\n",
       "          const port = 6011;\n",
       "          if (port) {\n",
       "            url.port = port;\n",
       "          }\n",
       "          frame.src = url;\n",
       "        })();\n",
       "      </script>\n",
       "    "
      ],
      "text/plain": [
       "<IPython.core.display.HTML object>"
      ]
     },
     "metadata": {},
     "output_type": "display_data"
    },
    {
     "name": "stdout",
     "output_type": "stream",
     "text": [
      "Epoch 1/15\n",
      "  2/394 [..............................] - ETA: 17s - loss: 2.2598 - accuracy: 0.2148WARNING:tensorflow:Callbacks method `on_train_batch_end` is slow compared to the batch time (batch time: 0.0230s vs `on_train_batch_end` time: 0.0668s). Check your callbacks.\n",
      "394/394 [==============================] - 9s 22ms/step - loss: 0.2314 - accuracy: 0.9299 - val_loss: 0.0829 - val_accuracy: 0.9733\n",
      "Epoch 2/15\n",
      "394/394 [==============================] - 8s 22ms/step - loss: 0.0639 - accuracy: 0.9805 - val_loss: 0.0652 - val_accuracy: 0.9810\n",
      "Epoch 3/15\n",
      "394/394 [==============================] - 8s 21ms/step - loss: 0.0391 - accuracy: 0.9876 - val_loss: 0.0552 - val_accuracy: 0.9840\n",
      "Epoch 4/15\n",
      "394/394 [==============================] - 8s 20ms/step - loss: 0.0282 - accuracy: 0.9909 - val_loss: 0.0576 - val_accuracy: 0.9850\n",
      "Epoch 5/15\n",
      "394/394 [==============================] - 8s 20ms/step - loss: 0.0171 - accuracy: 0.9940 - val_loss: 0.0674 - val_accuracy: 0.9841\n",
      "Epoch 6/15\n",
      "394/394 [==============================] - 8s 21ms/step - loss: 0.0149 - accuracy: 0.9949 - val_loss: 0.0644 - val_accuracy: 0.9830\n",
      "Epoch 7/15\n",
      "394/394 [==============================] - 8s 21ms/step - loss: 0.0144 - accuracy: 0.9951 - val_loss: 0.0588 - val_accuracy: 0.9841\n",
      "Epoch 8/15\n",
      "394/394 [==============================] - 8s 19ms/step - loss: 0.0098 - accuracy: 0.9968 - val_loss: 0.0595 - val_accuracy: 0.9876\n",
      "Epoch 9/15\n",
      "394/394 [==============================] - 8s 20ms/step - loss: 0.0108 - accuracy: 0.9966 - val_loss: 0.0651 - val_accuracy: 0.9873\n",
      "Epoch 10/15\n",
      "394/394 [==============================] - 8s 20ms/step - loss: 0.0113 - accuracy: 0.9965 - val_loss: 0.0724 - val_accuracy: 0.9851\n",
      "Epoch 11/15\n",
      "394/394 [==============================] - 8s 19ms/step - loss: 0.0060 - accuracy: 0.9981 - val_loss: 0.0777 - val_accuracy: 0.9850\n",
      "Epoch 12/15\n",
      "394/394 [==============================] - 8s 20ms/step - loss: 0.0088 - accuracy: 0.9972 - val_loss: 0.0744 - val_accuracy: 0.9861\n",
      "Epoch 13/15\n",
      "394/394 [==============================] - 8s 19ms/step - loss: 0.0077 - accuracy: 0.9976 - val_loss: 0.0572 - val_accuracy: 0.9873\n",
      "Epoch 14/15\n",
      "394/394 [==============================] - 8s 19ms/step - loss: 0.0054 - accuracy: 0.9985 - val_loss: 0.0836 - val_accuracy: 0.9845\n",
      "Epoch 15/15\n",
      "394/394 [==============================] - 8s 20ms/step - loss: 0.0030 - accuracy: 0.9991 - val_loss: 0.0623 - val_accuracy: 0.9889\n",
      "313/313 [==============================] - 1s 4ms/step - loss: 0.0553 - accuracy: 0.9887\n"
     ]
    }
   ],
   "source": [
    "%tensorboard --logdir ./logs/conv_model/\n",
    "    \n",
    "history = conv_model.fit(x_train, y_train, batch_size=128, epochs=15, validation_split=0.16, shuffle=True,\n",
    "                               callbacks=[tf.keras.callbacks.TensorBoard(log_dir='./logs/conv_model/')])\n",
    "score = conv_model.evaluate(x_test, y_test)\n",
    "\n",
    "conv_model.save('./models/')"
   ]
  },
  {
   "cell_type": "code",
   "execution_count": 18,
   "metadata": {},
   "outputs": [
    {
     "name": "stdout",
     "output_type": "stream",
     "text": [
      "Accuracy on train set:  0.9991269707679749\n",
      "Accuracy on test set:  0.9886999726295471\n"
     ]
    }
   ],
   "source": [
    "print('Accuracy on train set: ', history.history['accuracy'][-1])\n",
    "print('Accuracy on test set: ', score[-1])"
   ]
  },
  {
   "cell_type": "code",
   "execution_count": 19,
   "metadata": {
    "scrolled": true
   },
   "outputs": [
    {
     "data": {
      "image/png": "[encoded data removed]",
      "text/plain": [
       "<Figure size 432x288 with 1 Axes>"
      ]
     },
     "metadata": {
      "needs_background": "light"
     },
     "output_type": "display_data"
    },
    {
     "data": {
      "image/png": "[encoded data removed]",
      "text/plain": [
       "<Figure size 432x288 with 1 Axes>"
      ]
     },
     "metadata": {
      "needs_background": "light"
     },
     "output_type": "display_data"
    }
   ],
   "source": [
    "plot_loss(history)\n",
    "plot_accuracy(history)"
   ]
  },
  {
   "cell_type": "markdown",
   "metadata": {},
   "source": [
    "The convolutional model performs a little better on the test set but also clearly overfits the train set. One possibility to reduce overfitting that usually works is to add dropout layers."
   ]
  },
  {
   "cell_type": "markdown",
   "metadata": {},
   "source": [
    "### Adding dropout layers"
   ]
  },
  {
   "cell_type": "markdown",
   "metadata": {},
   "source": [
    "The following model is basically the same as before but containing three dropout layers. "
   ]
  },
  {
   "cell_type": "code",
   "execution_count": 20,
   "metadata": {},
   "outputs": [
    {
     "name": "stdout",
     "output_type": "stream",
     "text": [
      "Model: \"Convolutional_MNIST_model_with_dropout\"\n",
      "_________________________________________________________________\n",
      "Layer (type)                 Output Shape              Param #   \n",
      "=================================================================\n",
      "input_3 (InputLayer)         [(None, 28, 28, 1)]       0         \n",
      "_________________________________________________________________\n",
      "conv2d_1 (Conv2D)            (None, 13, 13, 32)        544       \n",
      "_________________________________________________________________\n",
      "max_pooling2d_1 (MaxPooling2 (None, 7, 7, 32)          0         \n",
      "_________________________________________________________________\n",
      "dropout (Dropout)            (None, 7, 7, 32)          0         \n",
      "_________________________________________________________________\n",
      "flatten_2 (Flatten)          (None, 1568)              0         \n",
      "_________________________________________________________________\n",
      "dense_8 (Dense)              (None, 1024)              1606656   \n",
      "_________________________________________________________________\n",
      "dropout_1 (Dropout)          (None, 1024)              0         \n",
      "_________________________________________________________________\n",
      "dense_9 (Dense)              (None, 256)               262400    \n",
      "_________________________________________________________________\n",
      "dense_10 (Dense)             (None, 64)                16448     \n",
      "_________________________________________________________________\n",
      "dropout_2 (Dropout)          (None, 64)                0         \n",
      "_________________________________________________________________\n",
      "dense_11 (Dense)             (None, 10)                650       \n",
      "=================================================================\n",
      "Total params: 1,886,698\n",
      "Trainable params: 1,886,698\n",
      "Non-trainable params: 0\n",
      "_________________________________________________________________\n",
      "None\n"
     ]
    }
   ],
   "source": [
    "def conv_model_with_dropout(input_shape, name='Convolutional_MNIST_model_with_dropout'):\n",
    "    \n",
    "    X_input = Input(input_shape)\n",
    "    X = X_input\n",
    "    \n",
    "    X = Conv2D(32, (4, 4), strides=2, activation='relu')(X)\n",
    "    X = MaxPooling2D(pool_size=(2, 2), strides=2, padding='same')(X)\n",
    "    X = Dropout(0.4)(X)\n",
    "    \n",
    "    X = Flatten()(X)\n",
    "    X = Dense(1024, activation='relu')(X)\n",
    "    X = Dropout(0.2)(X)\n",
    "    X = Dense(256, activation='relu')(X)\n",
    "    X = Dense(64, activation='relu')(X)\n",
    "    X = Dropout(0.2)(X)\n",
    "    X = Dense(10, activation='softmax')(X)\n",
    "    \n",
    "    model = Model(X_input, X, name=name)\n",
    "    \n",
    "    return model\n",
    "    \n",
    "conv_model_with_dropout = conv_model_with_dropout((28, 28, 1))\n",
    "print(conv_model_with_dropout.summary())"
   ]
  },
  {
   "cell_type": "code",
   "execution_count": 21,
   "metadata": {},
   "outputs": [
    {
     "data": {
      "text/plain": [
       "Reusing TensorBoard on port 6012 (pid 5103), started 1:45:14 ago. (Use '!kill 5103' to kill it.)"
      ]
     },
     "metadata": {},
     "output_type": "display_data"
    },
    {
     "data": {
      "text/html": [
       "\n",
       "      <iframe id=\"tensorboard-frame-30e91cf3165dabf4\" width=\"100%\" height=\"800\" frameborder=\"0\">\n",
       "      </iframe>\n",
       "      <script>\n",
       "        (function() {\n",
       "          const frame = document.getElementById(\"tensorboard-frame-30e91cf3165dabf4\");\n",
       "          const url = new URL(\"/\", window.location);\n",
       "          const port = 6012;\n",
       "          if (port) {\n",
       "            url.port = port;\n",
       "          }\n",
       "          frame.src = url;\n",
       "        })();\n",
       "      </script>\n",
       "    "
      ],
      "text/plain": [
       "<IPython.core.display.HTML object>"
      ]
     },
     "metadata": {},
     "output_type": "display_data"
    },
    {
     "name": "stdout",
     "output_type": "stream",
     "text": [
      "Epoch 1/10\n",
      "  2/394 [..............................] - ETA: 19s - loss: 2.2698 - accuracy: 0.1211WARNING:tensorflow:Callbacks method `on_train_batch_end` is slow compared to the batch time (batch time: 0.0299s vs `on_train_batch_end` time: 0.0686s). Check your callbacks.\n",
      "394/394 [==============================] - 9s 24ms/step - loss: 0.3172 - accuracy: 0.9010 - val_loss: 0.0826 - val_accuracy: 0.9756\n",
      "Epoch 2/10\n",
      "394/394 [==============================] - 9s 23ms/step - loss: 0.1171 - accuracy: 0.9642 - val_loss: 0.0535 - val_accuracy: 0.9837\n",
      "Epoch 3/10\n",
      "394/394 [==============================] - 9s 23ms/step - loss: 0.0870 - accuracy: 0.9736 - val_loss: 0.0502 - val_accuracy: 0.9858\n",
      "Epoch 4/10\n",
      "394/394 [==============================] - 9s 23ms/step - loss: 0.0716 - accuracy: 0.9786 - val_loss: 0.0459 - val_accuracy: 0.9870\n",
      "Epoch 5/10\n",
      "394/394 [==============================] - 9s 23ms/step - loss: 0.0607 - accuracy: 0.9815 - val_loss: 0.0517 - val_accuracy: 0.9855\n",
      "Epoch 6/10\n",
      "394/394 [==============================] - 9s 23ms/step - loss: 0.0560 - accuracy: 0.9832 - val_loss: 0.0447 - val_accuracy: 0.9878\n",
      "Epoch 7/10\n",
      "394/394 [==============================] - 9s 23ms/step - loss: 0.0479 - accuracy: 0.9848 - val_loss: 0.0426 - val_accuracy: 0.9885\n",
      "Epoch 8/10\n",
      "394/394 [==============================] - 9s 23ms/step - loss: 0.0415 - accuracy: 0.9872 - val_loss: 0.0408 - val_accuracy: 0.9880\n",
      "Epoch 9/10\n",
      "394/394 [==============================] - 9s 23ms/step - loss: 0.0382 - accuracy: 0.9884 - val_loss: 0.0430 - val_accuracy: 0.9884\n",
      "Epoch 10/10\n",
      "394/394 [==============================] - 9s 23ms/step - loss: 0.0333 - accuracy: 0.9894 - val_loss: 0.0428 - val_accuracy: 0.9893\n",
      "313/313 [==============================] - 1s 4ms/step - loss: 0.0357 - accuracy: 0.9895\n"
     ]
    }
   ],
   "source": [
    "conv_model_with_dropout.compile(optimizer='adam', loss='categorical_crossentropy', metrics=['accuracy'])\n",
    "\n",
    "%tensorboard --logdir ./logs/conv_model_with_dropout/\n",
    "    \n",
    "history = conv_model_with_dropout.fit(x_train, y_train, batch_size=128, epochs=10, validation_split=0.16, \n",
    "                                      shuffle=True,\n",
    "                                      callbacks=[tf.keras.callbacks.TensorBoard(log_dir='./logs/conv_model_with_dropout/')])\n",
    "score = conv_model_with_dropout.evaluate(x_test, y_test)\n",
    "\n",
    "conv_model_with_dropout.save('./models/')"
   ]
  },
  {
   "cell_type": "code",
   "execution_count": 22,
   "metadata": {},
   "outputs": [
    {
     "name": "stdout",
     "output_type": "stream",
     "text": [
      "Accuracy on train set:  0.9894047379493713\n",
      "Accuracy on test set:  0.9894999861717224\n"
     ]
    }
   ],
   "source": [
    "print('Accuracy on train set: ', history.history['accuracy'][-1])\n",
    "print('Accuracy on test set: ', score[-1])"
   ]
  },
  {
   "cell_type": "markdown",
   "metadata": {},
   "source": [
    "Our model is doing well on the train set and even a little better on the test set. The difference in performance on both is quite small so we can say that we successfully reduced overfitting of our model. We may look again at mislabelled examples and do our short error analysis as we did for the fully connected model."
   ]
  },
  {
   "cell_type": "code",
   "execution_count": 23,
   "metadata": {},
   "outputs": [
    {
     "name": "stdout",
     "output_type": "stream",
     "text": [
      "Number of wrong predictions:  105\n"
     ]
    },
    {
     "data": {
      "image/png": "[encoded data removed]",
      "text/plain": [
       "<Figure size 1152x144 with 8 Axes>"
      ]
     },
     "metadata": {
      "needs_background": "light"
     },
     "output_type": "display_data"
    }
   ],
   "source": [
    "plot_incorrect_preds(conv_model_with_dropout)"
   ]
  },
  {
   "cell_type": "code",
   "execution_count": 24,
   "metadata": {
    "scrolled": true
   },
   "outputs": [
    {
     "data": {
      "image/png": "[encoded data removed]",
      "text/plain": [
       "<Figure size 432x288 with 1 Axes>"
      ]
     },
     "metadata": {
      "needs_background": "light"
     },
     "output_type": "display_data"
    }
   ],
   "source": [
    "plot_preds_scatter(conv_model_with_dropout)"
   ]
  },
  {
   "cell_type": "markdown",
   "metadata": {},
   "source": [
    "The biggest issues seem to be that a nine is oftentimes predicted as four and a two as seven. Let's see if the histograms confirm this."
   ]
  },
  {
   "cell_type": "code",
   "execution_count": 25,
   "metadata": {},
   "outputs": [
    {
     "data": {
      "image/png": "[encoded data removed]",
      "text/plain": [
       "<Figure size 1152x288 with 2 Axes>"
      ]
     },
     "metadata": {
      "needs_background": "light"
     },
     "output_type": "display_data"
    }
   ],
   "source": [
    "plot_incorr_preds_hist(conv_model_with_dropout)"
   ]
  },
  {
   "cell_type": "markdown",
   "metadata": {},
   "source": [
    "They definetely do! So for improving this model it could be a good idea to train it more images of nine and two which we can easily get data agumentation techniques."
   ]
  },
  {
   "cell_type": "markdown",
   "metadata": {},
   "source": [
    "## Adding batch normalization"
   ]
  },
  {
   "cell_type": "markdown",
   "metadata": {},
   "source": [
    "Batch normalization is also a quick way to improve model performance. Let us see if it can help our previous model to perform even better."
   ]
  },
  {
   "cell_type": "code",
   "execution_count": 26,
   "metadata": {},
   "outputs": [
    {
     "name": "stdout",
     "output_type": "stream",
     "text": [
      "Model: \"Convolutional_MNIST_model_with_dropout_and_batch_normalization\"\n",
      "_________________________________________________________________\n",
      "Layer (type)                 Output Shape              Param #   \n",
      "=================================================================\n",
      "input_4 (InputLayer)         [(None, 28, 28, 1)]       0         \n",
      "_________________________________________________________________\n",
      "batch_normalization (BatchNo (None, 28, 28, 1)         4         \n",
      "_________________________________________________________________\n",
      "conv2d_2 (Conv2D)            (None, 13, 13, 32)        544       \n",
      "_________________________________________________________________\n",
      "max_pooling2d_2 (MaxPooling2 (None, 7, 7, 32)          0         \n",
      "_________________________________________________________________\n",
      "dropout_3 (Dropout)          (None, 7, 7, 32)          0         \n",
      "_________________________________________________________________\n",
      "batch_normalization_1 (Batch (None, 7, 7, 32)          128       \n",
      "_________________________________________________________________\n",
      "flatten_3 (Flatten)          (None, 1568)              0         \n",
      "_________________________________________________________________\n",
      "dense_12 (Dense)             (None, 1024)              1606656   \n",
      "_________________________________________________________________\n",
      "dropout_4 (Dropout)          (None, 1024)              0         \n",
      "_________________________________________________________________\n",
      "dense_13 (Dense)             (None, 256)               262400    \n",
      "_________________________________________________________________\n",
      "batch_normalization_2 (Batch (None, 256)               1024      \n",
      "_________________________________________________________________\n",
      "dense_14 (Dense)             (None, 64)                16448     \n",
      "_________________________________________________________________\n",
      "dropout_5 (Dropout)          (None, 64)                0         \n",
      "_________________________________________________________________\n",
      "dense_15 (Dense)             (None, 10)                650       \n",
      "=================================================================\n",
      "Total params: 1,887,854\n",
      "Trainable params: 1,887,276\n",
      "Non-trainable params: 578\n",
      "_________________________________________________________________\n",
      "None\n"
     ]
    }
   ],
   "source": [
    "def conv_model_dropout_batchnorm(input_shape, name='Convolutional_MNIST_model_with_dropout_and_batch_normalization'):\n",
    "    \n",
    "    X_input = Input(input_shape)\n",
    "    X = X_input\n",
    "    \n",
    "    X = BatchNormalization()(X)\n",
    "    X = Conv2D(32, (4, 4), strides=2, activation='relu')(X)\n",
    "    X = MaxPooling2D(pool_size=(2, 2), strides=2, padding='same')(X)\n",
    "    X = Dropout(0.4)(X)\n",
    "    \n",
    "    X = BatchNormalization()(X)\n",
    "    X = Flatten()(X)\n",
    "    X = Dense(1024, activation='relu')(X)\n",
    "    X = Dropout(0.2)(X)\n",
    "    X = Dense(256, activation='relu')(X)\n",
    "    X = BatchNormalization()(X)\n",
    "    X = Dense(64, activation='relu')(X)\n",
    "    X = Dropout(0.2)(X)\n",
    "    X = Dense(10, activation='softmax')(X)\n",
    "    \n",
    "    \n",
    "    \n",
    "    model = Model(X_input, X, name=name)\n",
    "    \n",
    "    return model\n",
    "    \n",
    "conv_model_dropout_batchnorm = conv_model_dropout_batchnorm((28, 28, 1))\n",
    "print(conv_model_dropout_batchnorm.summary())"
   ]
  },
  {
   "cell_type": "code",
   "execution_count": 27,
   "metadata": {},
   "outputs": [
    {
     "data": {
      "text/html": [
       "\n",
       "      <iframe id=\"tensorboard-frame-2679e464383cf12a\" width=\"100%\" height=\"800\" frameborder=\"0\">\n",
       "      </iframe>\n",
       "      <script>\n",
       "        (function() {\n",
       "          const frame = document.getElementById(\"tensorboard-frame-2679e464383cf12a\");\n",
       "          const url = new URL(\"/\", window.location);\n",
       "          const port = 6014;\n",
       "          if (port) {\n",
       "            url.port = port;\n",
       "          }\n",
       "          frame.src = url;\n",
       "        })();\n",
       "      </script>\n",
       "    "
      ],
      "text/plain": [
       "<IPython.core.display.HTML object>"
      ]
     },
     "metadata": {},
     "output_type": "display_data"
    },
    {
     "name": "stdout",
     "output_type": "stream",
     "text": [
      "Epoch 1/15\n",
      "  2/394 [..............................] - ETA: 24s - loss: 2.6793 - accuracy: 0.1602WARNING:tensorflow:Callbacks method `on_train_batch_end` is slow compared to the batch time (batch time: 0.0344s vs `on_train_batch_end` time: 0.0889s). Check your callbacks.\n",
      "394/394 [==============================] - 14s 35ms/step - loss: 0.2915 - accuracy: 0.9093 - val_loss: 0.1710 - val_accuracy: 0.9531\n",
      "Epoch 2/15\n",
      "394/394 [==============================] - 14s 34ms/step - loss: 0.1200 - accuracy: 0.9636 - val_loss: 0.0576 - val_accuracy: 0.9825\n",
      "Epoch 3/15\n",
      "394/394 [==============================] - 13s 34ms/step - loss: 0.0889 - accuracy: 0.9725 - val_loss: 0.0497 - val_accuracy: 0.9851\n",
      "Epoch 4/15\n",
      "394/394 [==============================] - 13s 34ms/step - loss: 0.0721 - accuracy: 0.9776 - val_loss: 0.0441 - val_accuracy: 0.9870\n",
      "Epoch 5/15\n",
      "394/394 [==============================] - 14s 35ms/step - loss: 0.0635 - accuracy: 0.9802 - val_loss: 0.0398 - val_accuracy: 0.9890\n",
      "Epoch 6/15\n",
      "394/394 [==============================] - 13s 34ms/step - loss: 0.0575 - accuracy: 0.9824 - val_loss: 0.0413 - val_accuracy: 0.9882\n",
      "Epoch 7/15\n",
      "394/394 [==============================] - 13s 34ms/step - loss: 0.0497 - accuracy: 0.9848 - val_loss: 0.0402 - val_accuracy: 0.9891\n",
      "Epoch 8/15\n",
      "394/394 [==============================] - 13s 34ms/step - loss: 0.0437 - accuracy: 0.9857 - val_loss: 0.0457 - val_accuracy: 0.9875\n",
      "Epoch 9/15\n",
      "394/394 [==============================] - 13s 34ms/step - loss: 0.0433 - accuracy: 0.9859 - val_loss: 0.0360 - val_accuracy: 0.9907\n",
      "Epoch 10/15\n",
      "394/394 [==============================] - 13s 34ms/step - loss: 0.0406 - accuracy: 0.9869 - val_loss: 0.0343 - val_accuracy: 0.9903\n",
      "Epoch 11/15\n",
      "394/394 [==============================] - 13s 34ms/step - loss: 0.0352 - accuracy: 0.9884 - val_loss: 0.0403 - val_accuracy: 0.9884\n",
      "Epoch 12/15\n",
      "394/394 [==============================] - 13s 34ms/step - loss: 0.0323 - accuracy: 0.9902 - val_loss: 0.0429 - val_accuracy: 0.9887\n",
      "Epoch 13/15\n",
      "394/394 [==============================] - 13s 34ms/step - loss: 0.0305 - accuracy: 0.9898 - val_loss: 0.0425 - val_accuracy: 0.9895\n",
      "Epoch 14/15\n",
      "394/394 [==============================] - 13s 34ms/step - loss: 0.0301 - accuracy: 0.9906 - val_loss: 0.0366 - val_accuracy: 0.9900\n",
      "Epoch 15/15\n",
      "394/394 [==============================] - 13s 34ms/step - loss: 0.0308 - accuracy: 0.9902 - val_loss: 0.0393 - val_accuracy: 0.9903\n",
      "313/313 [==============================] - 1s 5ms/step - loss: 0.0298 - accuracy: 0.9908\n"
     ]
    }
   ],
   "source": [
    "conv_model_dropout_batchnorm.compile(optimizer='adam', loss='categorical_crossentropy', metrics=['accuracy'])\n",
    "\n",
    "%tensorboard --logdir ./logs/conv_model_dropout_batchnorm/\n",
    "    \n",
    "history = conv_model_dropout_batchnorm.fit(x_train, y_train, batch_size=128, epochs=15, validation_split=0.16, \n",
    "                                          shuffle=True,\n",
    "                                          callbacks=[tf.keras.callbacks.TensorBoard(log_dir='./logs/conv_model_dropout_batchnorm/')])\n",
    "score = conv_model_dropout_batchnorm.evaluate(x_test, y_test)\n",
    "\n",
    "conv_model_dropout_batchnorm.save('./models/')"
   ]
  },
  {
   "cell_type": "code",
   "execution_count": 28,
   "metadata": {},
   "outputs": [
    {
     "name": "stdout",
     "output_type": "stream",
     "text": [
      "Accuracy on train set:  0.9902380704879761\n",
      "Accuracy on test set:  0.9908000230789185\n"
     ]
    }
   ],
   "source": [
    "print('Accuracy on train set: ', history.history['accuracy'][-1])\n",
    "print('Accuracy on test set: ', score[-1])"
   ]
  },
  {
   "cell_type": "markdown",
   "metadata": {},
   "source": [
    "There is almost no performance improvement, instead our model tends more to overfit the training data. Thus, batch normalization doesn't seem to be helpful here."
   ]
  },
  {
   "cell_type": "markdown",
   "metadata": {},
   "source": [
    "## A deep convolutional network"
   ]
  },
  {
   "cell_type": "markdown",
   "metadata": {},
   "source": [
    "As introducing a single convolutional layer worked out well, let us see how things are if we add many convolutional layer and try to learn the digit classification with a deep convolutional network. We will continue using dropout to prevent overfitting."
   ]
  },
  {
   "cell_type": "code",
   "execution_count": 29,
   "metadata": {},
   "outputs": [
    {
     "name": "stdout",
     "output_type": "stream",
     "text": [
      "Model: \"Deep_convolutional_MNIST_model\"\n",
      "_________________________________________________________________\n",
      "Layer (type)                 Output Shape              Param #   \n",
      "=================================================================\n",
      "input_5 (InputLayer)         [(None, 28, 28, 1)]       0         \n",
      "_________________________________________________________________\n",
      "conv2d_3 (Conv2D)            (None, 28, 28, 8)         136       \n",
      "_________________________________________________________________\n",
      "conv2d_4 (Conv2D)            (None, 28, 28, 8)         72        \n",
      "_________________________________________________________________\n",
      "max_pooling2d_3 (MaxPooling2 (None, 14, 14, 8)         0         \n",
      "_________________________________________________________________\n",
      "conv2d_5 (Conv2D)            (None, 14, 14, 16)        2064      \n",
      "_________________________________________________________________\n",
      "conv2d_6 (Conv2D)            (None, 14, 14, 16)        272       \n",
      "_________________________________________________________________\n",
      "conv2d_7 (Conv2D)            (None, 7, 7, 32)          8224      \n",
      "_________________________________________________________________\n",
      "conv2d_8 (Conv2D)            (None, 7, 7, 32)          1056      \n",
      "_________________________________________________________________\n",
      "conv2d_9 (Conv2D)            (None, 4, 4, 64)          32832     \n",
      "_________________________________________________________________\n",
      "conv2d_10 (Conv2D)           (None, 4, 4, 64)          4160      \n",
      "_________________________________________________________________\n",
      "dropout_6 (Dropout)          (None, 4, 4, 64)          0         \n",
      "_________________________________________________________________\n",
      "conv2d_11 (Conv2D)           (None, 1, 1, 128)         131200    \n",
      "_________________________________________________________________\n",
      "conv2d_12 (Conv2D)           (None, 1, 1, 128)         16512     \n",
      "_________________________________________________________________\n",
      "dropout_7 (Dropout)          (None, 1, 1, 128)         0         \n",
      "_________________________________________________________________\n",
      "flatten_4 (Flatten)          (None, 128)               0         \n",
      "_________________________________________________________________\n",
      "dense_16 (Dense)             (None, 64)                8256      \n",
      "_________________________________________________________________\n",
      "dense_17 (Dense)             (None, 32)                2080      \n",
      "_________________________________________________________________\n",
      "dense_18 (Dense)             (None, 16)                528       \n",
      "_________________________________________________________________\n",
      "dropout_8 (Dropout)          (None, 16)                0         \n",
      "_________________________________________________________________\n",
      "dense_19 (Dense)             (None, 10)                170       \n",
      "=================================================================\n",
      "Total params: 207,562\n",
      "Trainable params: 207,562\n",
      "Non-trainable params: 0\n",
      "_________________________________________________________________\n",
      "None\n"
     ]
    }
   ],
   "source": [
    "def deep_conv_model(input_shape, name='Deep_convolutional_MNIST_model'):\n",
    "    \n",
    "    X_input = Input(input_shape)\n",
    "    X = X_input\n",
    "    \n",
    "    X = Conv2D(8, (4, 4), activation='relu', padding='same')(X)\n",
    "    X = Conv2D(8, (1, 1), activation='relu')(X)\n",
    "    X = MaxPooling2D(pool_size=(2, 2), strides=2, padding='same')(X)\n",
    "    X = Conv2D(16, (4, 4), activation='relu', padding='same')(X)\n",
    "    X = Conv2D(16, (1, 1), activation='relu')(X)\n",
    "    X = Conv2D(32, (4, 4), strides=2, activation='relu', padding='same')(X)\n",
    "    X = Conv2D(32, (1, 1), activation='relu')(X)\n",
    "    X = Conv2D(64, (4, 4), strides=2, activation='relu', padding='same')(X)\n",
    "    X = Conv2D(64, (1, 1), activation='relu')(X)\n",
    "    X = Dropout(0.4)(X)\n",
    "    X = Conv2D(128, (4, 4), strides=2, activation='relu')(X)\n",
    "    X = Conv2D(128, (1, 1), activation='relu')(X)\n",
    "    X = Dropout(0.4)(X)\n",
    "    \n",
    "    X = Flatten()(X)\n",
    "    X = Dense(64, activation='relu')(X)\n",
    "    X = Dense(32, activation='relu')(X)\n",
    "    X = Dense(16, activation='relu')(X)\n",
    "    X = Dropout(0.2)(X)\n",
    "    X = Dense(10, activation='softmax')(X)\n",
    "    \n",
    "    \n",
    "    \n",
    "    model = Model(X_input, X, name=name)\n",
    "    \n",
    "    return model\n",
    "    \n",
    "deep_conv_model = deep_conv_model((28, 28, 1))\n",
    "print(deep_conv_model.summary())"
   ]
  },
  {
   "cell_type": "markdown",
   "metadata": {},
   "source": [
    "Note that altough this is a deep model, it has much fewer parameters than our previous model."
   ]
  },
  {
   "cell_type": "code",
   "execution_count": 30,
   "metadata": {},
   "outputs": [
    {
     "data": {
      "text/plain": [
       "Reusing TensorBoard on port 6010 (pid 2224), started 5:24:16 ago. (Use '!kill 2224' to kill it.)"
      ]
     },
     "metadata": {},
     "output_type": "display_data"
    },
    {
     "data": {
      "text/html": [
       "\n",
       "      <iframe id=\"tensorboard-frame-8f8c97ccf3562e5e\" width=\"100%\" height=\"800\" frameborder=\"0\">\n",
       "      </iframe>\n",
       "      <script>\n",
       "        (function() {\n",
       "          const frame = document.getElementById(\"tensorboard-frame-8f8c97ccf3562e5e\");\n",
       "          const url = new URL(\"/\", window.location);\n",
       "          const port = 6010;\n",
       "          if (port) {\n",
       "            url.port = port;\n",
       "          }\n",
       "          frame.src = url;\n",
       "        })();\n",
       "      </script>\n",
       "    "
      ],
      "text/plain": [
       "<IPython.core.display.HTML object>"
      ]
     },
     "metadata": {},
     "output_type": "display_data"
    },
    {
     "name": "stdout",
     "output_type": "stream",
     "text": [
      "Epoch 1/15\n",
      "  2/394 [..............................] - ETA: 32s - loss: 2.3025 - accuracy: 0.1328WARNING:tensorflow:Callbacks method `on_train_batch_end` is slow compared to the batch time (batch time: 0.0630s vs `on_train_batch_end` time: 0.1007s). Check your callbacks.\n",
      "394/394 [==============================] - 25s 63ms/step - loss: 0.7901 - accuracy: 0.7241 - val_loss: 0.1637 - val_accuracy: 0.9572\n",
      "Epoch 2/15\n",
      "394/394 [==============================] - 25s 62ms/step - loss: 0.2404 - accuracy: 0.9364 - val_loss: 0.0846 - val_accuracy: 0.9785\n",
      "Epoch 3/15\n",
      "394/394 [==============================] - 25s 63ms/step - loss: 0.1715 - accuracy: 0.9569 - val_loss: 0.0708 - val_accuracy: 0.9821\n",
      "Epoch 4/15\n",
      "394/394 [==============================] - 25s 63ms/step - loss: 0.1357 - accuracy: 0.9665 - val_loss: 0.0732 - val_accuracy: 0.9825\n",
      "Epoch 5/15\n",
      "394/394 [==============================] - 25s 63ms/step - loss: 0.1155 - accuracy: 0.9702 - val_loss: 0.0707 - val_accuracy: 0.9824\n",
      "Epoch 6/15\n",
      "394/394 [==============================] - 25s 64ms/step - loss: 0.1104 - accuracy: 0.9728 - val_loss: 0.0780 - val_accuracy: 0.9834\n",
      "Epoch 7/15\n",
      "394/394 [==============================] - 25s 63ms/step - loss: 0.0973 - accuracy: 0.9757 - val_loss: 0.0594 - val_accuracy: 0.9855\n",
      "Epoch 8/15\n",
      "394/394 [==============================] - 24s 61ms/step - loss: 0.0890 - accuracy: 0.9774 - val_loss: 0.0464 - val_accuracy: 0.9896\n",
      "Epoch 9/15\n",
      "394/394 [==============================] - 25s 63ms/step - loss: 0.0811 - accuracy: 0.9791 - val_loss: 0.0687 - val_accuracy: 0.9858\n",
      "Epoch 10/15\n",
      "394/394 [==============================] - 25s 62ms/step - loss: 0.0793 - accuracy: 0.9794 - val_loss: 0.0466 - val_accuracy: 0.9891\n",
      "Epoch 11/15\n",
      "394/394 [==============================] - 24s 60ms/step - loss: 0.0735 - accuracy: 0.9813 - val_loss: 0.0526 - val_accuracy: 0.9895\n",
      "Epoch 12/15\n",
      "394/394 [==============================] - 25s 63ms/step - loss: 0.0725 - accuracy: 0.9815 - val_loss: 0.0470 - val_accuracy: 0.9897\n",
      "Epoch 13/15\n",
      "394/394 [==============================] - 25s 63ms/step - loss: 0.0629 - accuracy: 0.9835 - val_loss: 0.0417 - val_accuracy: 0.9910\n",
      "Epoch 14/15\n",
      "394/394 [==============================] - 24s 60ms/step - loss: 0.0631 - accuracy: 0.9841 - val_loss: 0.0486 - val_accuracy: 0.9890\n",
      "Epoch 15/15\n",
      "394/394 [==============================] - 24s 60ms/step - loss: 0.0594 - accuracy: 0.9842 - val_loss: 0.0474 - val_accuracy: 0.9883\n",
      "313/313 [==============================] - 1s 4ms/step - loss: 0.0439 - accuracy: 0.9885\n"
     ]
    }
   ],
   "source": [
    "deep_conv_model.compile(optimizer='adam', loss='categorical_crossentropy', metrics=['accuracy'])\n",
    "\n",
    "%tensorboard --logdir ./logs/deep_conv_model/\n",
    "    \n",
    "history = deep_conv_model.fit(x_train, y_train, batch_size=128, epochs=15, validation_split=0.16, shuffle=True,\n",
    "                              callbacks=[tf.keras.callbacks.TensorBoard(log_dir='./logs/deep_conv_model/')])\n",
    "score = deep_conv_model.evaluate(x_test, y_test)\n",
    "\n",
    "deep_conv_model.save('./models/')"
   ]
  },
  {
   "cell_type": "code",
   "execution_count": 31,
   "metadata": {
    "scrolled": true
   },
   "outputs": [
    {
     "name": "stdout",
     "output_type": "stream",
     "text": [
      "Accuracy on train set:  0.98416668176651\n",
      "Accuracy on test set:  0.9884999990463257\n"
     ]
    }
   ],
   "source": [
    "print('Accuracy on train set: ', history.history['accuracy'][-1])\n",
    "print('Accuracy on test set: ', score[-1])"
   ]
  },
  {
   "cell_type": "markdown",
   "metadata": {},
   "source": [
    "This is 99% percent accuracy and the best we had so far."
   ]
  },
  {
   "cell_type": "code",
   "execution_count": 32,
   "metadata": {},
   "outputs": [
    {
     "name": "stdout",
     "output_type": "stream",
     "text": [
      "Number of wrong predictions:  115\n"
     ]
    },
    {
     "data": {
      "image/png": "[encoded data removed]",
      "text/plain": [
       "<Figure size 1152x144 with 8 Axes>"
      ]
     },
     "metadata": {
      "needs_background": "light"
     },
     "output_type": "display_data"
    }
   ],
   "source": [
    "plot_incorrect_preds(deep_conv_model)"
   ]
  },
  {
   "cell_type": "code",
   "execution_count": 33,
   "metadata": {
    "scrolled": true
   },
   "outputs": [
    {
     "data": {
      "image/png": "[encoded data removed]",
      "text/plain": [
       "<Figure size 432x288 with 1 Axes>"
      ]
     },
     "metadata": {
      "needs_background": "light"
     },
     "output_type": "display_data"
    }
   ],
   "source": [
    "plot_preds_scatter(deep_conv_model)"
   ]
  },
  {
   "cell_type": "markdown",
   "metadata": {},
   "source": []
  },
  {
   "cell_type": "code",
   "execution_count": 34,
   "metadata": {},
   "outputs": [
    {
     "data": {
      "image/png": "[encoded data removed]",
      "text/plain": [
       "<Figure size 1152x288 with 2 Axes>"
      ]
     },
     "metadata": {
      "needs_background": "light"
     },
     "output_type": "display_data"
    }
   ],
   "source": [
    "plot_incorr_preds_hist(deep_conv_model)"
   ]
  },
  {
   "cell_type": "code",
   "execution_count": null,
   "metadata": {},
   "outputs": [],
   "source": []
  },
  {
   "cell_type": "markdown",
   "metadata": {},
   "source": [
    "We reached 99% percent accuracy without any data augmentation or advanced techniques and also have shown some ways how the model could be improved. 99% success is quite a success for a model on the MNIST dataset, in particular for networks without any fine-tuning or extensive data preprocessing."
   ]
  },
  {
   "cell_type": "code",
   "execution_count": null,
   "metadata": {},
   "outputs": [],
   "source": []
  },
  {
   "cell_type": "code",
   "execution_count": null,
   "metadata": {},
   "outputs": [],
   "source": []
  },
  {
   "cell_type": "code",
   "execution_count": null,
   "metadata": {},
   "outputs": [],
   "source": []
  },
  {
   "cell_type": "code",
   "execution_count": null,
   "metadata": {},
   "outputs": [],
   "source": []
  },
  {
   "cell_type": "code",
   "execution_count": null,
   "metadata": {},
   "outputs": [],
   "source": []
  }
 ],
 "metadata": {
  "kernelspec": {
   "display_name": "Python 3",
   "language": "python",
   "name": "python3"
  },
  "language_info": {
   "codemirror_mode": {
    "name": "ipython",
    "version": 3
   },
   "file_extension": ".py",
   "mimetype": "text/x-python",
   "name": "python",
   "nbconvert_exporter": "python",
   "pygments_lexer": "ipython3",
   "version": "3.6.12"
  }
 },
 "nbformat": 4,
 "nbformat_minor": 4
}
