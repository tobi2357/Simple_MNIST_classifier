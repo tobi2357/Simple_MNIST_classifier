{
 "cells": [
  {
   "cell_type": "markdown",
   "metadata": {},
   "source": [
    "# A simple MNIST classifier"
   ]
  },
  {
   "cell_type": "markdown",
   "metadata": {},
   "source": [
    "In this little notebook we will train neural networks on the MNIST dataset. We begin with a simple fully connected network and afterwards compare it to a convolutional neural network. For the latter we look at three different possibilies of changing the network architecture in order to improve model performance. We also do a little bit of error analysis and point at ways to improve the networks though we do not go in these direction at all."
   ]
  },
  {
   "cell_type": "markdown",
   "metadata": {},
   "source": [
    "We begin by loading the basic libraries and modules we are going to use. If you wish to train your model on an AMD graphics card, you may want to have a look at plaidml and change the first cell accordingly. Also if you don't want to use tensorboard feel free to delete the respective lines of code using it."
   ]
  },
  {
   "cell_type": "code",
   "execution_count": 1,
   "metadata": {},
   "outputs": [
    {
     "name": "stderr",
     "output_type": "stream",
     "text": [
      "Using TensorFlow backend.\n"
     ]
    }
   ],
   "source": [
    "import os\n",
    "import tensorflow as tf\n",
    "import tensorflow.keras as keras\n",
    "import PIL\n",
    "import numpy as np\n",
    "import pandas as pd\n",
    "\n",
    "from IPython.display import Image\n",
    "from tensorflow.keras.models import Model\n",
    "from tensorflow.keras.layers import Conv2D, Dense, MaxPooling2D, Input, Flatten, BatchNormalization, Dropout\n",
    "import matplotlib.pyplot as plt\n",
    "from keras.utils import to_categorical\n",
    "\n",
    "keras.backend.set_image_data_format('channels_last')\n",
    "\n",
    "%load_ext tensorboard"
   ]
  },
  {
   "cell_type": "code",
   "execution_count": 2,
   "metadata": {},
   "outputs": [],
   "source": [
    "def one_hot_to_label(pred):\n",
    "    return np.argmax(pred)\n",
    "\n",
    "def plot_accuracy(history):\n",
    "    plt.plot(history.history['accuracy'])\n",
    "    plt.plot(history.history['val_accuracy'])\n",
    "    plt.title('model accuracy')\n",
    "    plt.ylabel('accuracy')\n",
    "    plt.xlabel('epoch')\n",
    "    plt.legend(['train', 'val'], loc='upper left')\n",
    "    plt.show()\n",
    "    \n",
    "def plot_loss(history):\n",
    "    plt.plot(history.history['loss'])\n",
    "    plt.plot(history.history['val_loss'])\n",
    "    plt.title('model loss')\n",
    "    plt.ylabel('loss')\n",
    "    plt.xlabel('epoch')\n",
    "    plt.legend(['train', 'val'], loc='upper left')\n",
    "    plt.show()"
   ]
  },
  {
   "cell_type": "markdown",
   "metadata": {},
   "source": [
    "Now, let us load the MNIST dataset. Luckily, it is part of the keras datasets so we can just load it with a simple command."
   ]
  },
  {
   "cell_type": "code",
   "execution_count": 3,
   "metadata": {},
   "outputs": [
    {
     "name": "stdout",
     "output_type": "stream",
     "text": [
      "Number of training samples:  60000\n",
      "Number of test samples:  10000\n"
     ]
    }
   ],
   "source": [
    "(x_train, y_train), (x_test, y_test) = keras.datasets.mnist.load_data()\n",
    "\n",
    "print('Number of training samples: ', x_train.shape[0])\n",
    "print('Number of test samples: ', x_test.shape[0])"
   ]
  },
  {
   "cell_type": "markdown",
   "metadata": {},
   "source": [
    "After loading the dataset, let us have a look at the data we have."
   ]
  },
  {
   "cell_type": "code",
   "execution_count": 4,
   "metadata": {
    "scrolled": true
   },
   "outputs": [
    {
     "data": {
      "image/png": "[encoded data removed]",
      "text/plain": [
       "<Figure size 1152x144 with 8 Axes>"
      ]
     },
     "metadata": {
      "needs_background": "light"
     },
     "output_type": "display_data"
    }
   ],
   "source": [
    "fig, axes = plt.subplots(1, 8, figsize=(16, 2))\n",
    "for ind, ax in enumerate(axes.flat):\n",
    "    ax.set_axis_off()\n",
    "    ax.imshow(x_train[ind], cmap=plt.get_cmap('gray'))\n",
    "    ax.set_title('Label: ' + str(y_train[ind]))"
   ]
  },
  {
   "cell_type": "markdown",
   "metadata": {},
   "source": [
    "Ok, so these are pictures of handwritten images, each 28x28 pixels and with greyscale values."
   ]
  },
  {
   "cell_type": "markdown",
   "metadata": {},
   "source": [
    "## Data preprocessing"
   ]
  },
  {
   "cell_type": "markdown",
   "metadata": {},
   "source": [
    "There isn't much data preprocessing necessary for this dataset. But converting the pixel values to numbers between 0 and 1 is definitely something we can do easily and which speeds up training quite a bit. So let us do so."
   ]
  },
  {
   "cell_type": "code",
   "execution_count": 5,
   "metadata": {},
   "outputs": [],
   "source": [
    "def preprocess_data(x, y):\n",
    "    x = x.astype('float32')\n",
    "    x = x.reshape((x.shape[0], 28, 28, 1)) # add extra dimension to use conv2d in the model\n",
    "    x = x/255 # normalize to values between 0 and 1\n",
    "    \n",
    "    y = to_categorical(y) # one hot encoding\n",
    "    return x, y\n",
    "    "
   ]
  },
  {
   "cell_type": "code",
   "execution_count": 6,
   "metadata": {},
   "outputs": [],
   "source": [
    "x_train, y_train = preprocess_data(x_train, y_train)\n",
    "x_test, y_test = preprocess_data(x_test, y_test)"
   ]
  },
  {
   "cell_type": "markdown",
   "metadata": {},
   "source": [
    "## Fully connected model"
   ]
  },
  {
   "cell_type": "markdown",
   "metadata": {},
   "source": [
    "Let us start by defining a fully connected network as first model. We take the input image (28x28x1), flatten it into a fully connected layer of size 28\\*28=784 and then reduce its size by a factor of four in each step."
   ]
  },
  {
   "cell_type": "code",
   "execution_count": 7,
   "metadata": {},
   "outputs": [
    {
     "name": "stdout",
     "output_type": "stream",
     "text": [
      "Model: \"MNIST_fully_connected\"\n",
      "_________________________________________________________________\n",
      "Layer (type)                 Output Shape              Param #   \n",
      "=================================================================\n",
      "input_1 (InputLayer)         [(None, 28, 28, 1)]       0         \n",
      "_________________________________________________________________\n",
      "flatten (Flatten)            (None, 784)               0         \n",
      "_________________________________________________________________\n",
      "dense (Dense)                (None, 512)               401920    \n",
      "_________________________________________________________________\n",
      "dense_1 (Dense)              (None, 128)               65664     \n",
      "_________________________________________________________________\n",
      "dense_2 (Dense)              (None, 32)                4128      \n",
      "_________________________________________________________________\n",
      "dense_3 (Dense)              (None, 10)                330       \n",
      "=================================================================\n",
      "Total params: 472,042\n",
      "Trainable params: 472,042\n",
      "Non-trainable params: 0\n",
      "_________________________________________________________________\n",
      "None\n"
     ]
    }
   ],
   "source": [
    "def fully_connected_model(input_shape, name='MNIST_fully_connected'):\n",
    "    \n",
    "    X_input = Input(input_shape)\n",
    "    X = X_input\n",
    "    \n",
    "    X = Flatten()(X) # fully connected layer with 784 nodes\n",
    "    \n",
    "    # reduce by factor of four in each layer\n",
    "    X = Dense(512, activation='relu')(X)\n",
    "    X = Dense(128, activation='relu')(X)\n",
    "    X = Dense(32, activation='relu')(X)\n",
    "    X = Dense(10, activation='softmax')(X)\n",
    "\n",
    "    model = Model(X_input, X, name=name)\n",
    "    \n",
    "    return model\n",
    "    \n",
    "fully_connected_model = fully_connected_model((28, 28, 1))\n",
    "print(fully_connected_model.summary())"
   ]
  },
  {
   "cell_type": "markdown",
   "metadata": {},
   "source": [
    "Alright, so we have 472,042 parameters and four hidden layers. Let's see how well our model performs after some training!"
   ]
  },
  {
   "cell_type": "markdown",
   "metadata": {},
   "source": [
    "## Training and Evaluation"
   ]
  },
  {
   "cell_type": "code",
   "execution_count": 8,
   "metadata": {},
   "outputs": [],
   "source": [
    "fully_connected_model.compile(optimizer='adam', loss='categorical_crossentropy', metrics=['accuracy'])"
   ]
  },
  {
   "cell_type": "code",
   "execution_count": 9,
   "metadata": {
    "scrolled": false
   },
   "outputs": [
    {
     "data": {
      "text/plain": [
       "Reusing TensorBoard on port 6013 (pid 5720), started 17:32:11 ago. (Use '!kill 5720' to kill it.)"
      ]
     },
     "metadata": {},
     "output_type": "display_data"
    },
    {
     "data": {
      "text/html": [
       "\n",
       "      <iframe id=\"tensorboard-frame-d34bb9f93d4e0319\" width=\"100%\" height=\"800\" frameborder=\"0\">\n",
       "      </iframe>\n",
       "      <script>\n",
       "        (function() {\n",
       "          const frame = document.getElementById(\"tensorboard-frame-d34bb9f93d4e0319\");\n",
       "          const url = new URL(\"/\", window.location);\n",
       "          const port = 6013;\n",
       "          if (port) {\n",
       "            url.port = port;\n",
       "          }\n",
       "          frame.src = url;\n",
       "        })();\n",
       "      </script>\n",
       "    "
      ],
      "text/plain": [
       "<IPython.core.display.HTML object>"
      ]
     },
     "metadata": {},
     "output_type": "display_data"
    },
    {
     "name": "stdout",
     "output_type": "stream",
     "text": [
      "Epoch 1/15\n",
      "  1/394 [..............................] - ETA: 0s - loss: 2.3075 - accuracy: 0.1016WARNING:tensorflow:From /Users/heckel/opt/anaconda3/envs/MNIST/lib/python3.6/site-packages/tensorflow/python/ops/summary_ops_v2.py:1277: stop (from tensorflow.python.eager.profiler) is deprecated and will be removed after 2020-07-01.\n",
      "Instructions for updating:\n",
      "use `tf.profiler.experimental.stop` instead.\n",
      "WARNING:tensorflow:Callbacks method `on_train_batch_end` is slow compared to the batch time (batch time: 0.0039s vs `on_train_batch_end` time: 0.0146s). Check your callbacks.\n",
      "394/394 [==============================] - 2s 4ms/step - loss: 0.2860 - accuracy: 0.9152 - val_loss: 0.1519 - val_accuracy: 0.9545\n",
      "Epoch 2/15\n",
      "394/394 [==============================] - 1s 4ms/step - loss: 0.1025 - accuracy: 0.9685 - val_loss: 0.0990 - val_accuracy: 0.9702\n",
      "Epoch 3/15\n",
      "394/394 [==============================] - 1s 4ms/step - loss: 0.0648 - accuracy: 0.9804 - val_loss: 0.0866 - val_accuracy: 0.9730\n",
      "Epoch 4/15\n",
      "394/394 [==============================] - 1s 4ms/step - loss: 0.0454 - accuracy: 0.9858 - val_loss: 0.0795 - val_accuracy: 0.9760\n",
      "Epoch 5/15\n",
      "394/394 [==============================] - 1s 4ms/step - loss: 0.0340 - accuracy: 0.9890 - val_loss: 0.0848 - val_accuracy: 0.9758\n",
      "Epoch 6/15\n",
      "394/394 [==============================] - 2s 4ms/step - loss: 0.0249 - accuracy: 0.9920 - val_loss: 0.0807 - val_accuracy: 0.9777\n",
      "Epoch 7/15\n",
      "394/394 [==============================] - 1s 4ms/step - loss: 0.0202 - accuracy: 0.9930 - val_loss: 0.0758 - val_accuracy: 0.9800\n",
      "Epoch 8/15\n",
      "394/394 [==============================] - 1s 4ms/step - loss: 0.0142 - accuracy: 0.9952 - val_loss: 0.0909 - val_accuracy: 0.9772\n",
      "Epoch 9/15\n",
      "394/394 [==============================] - 1s 4ms/step - loss: 0.0156 - accuracy: 0.9947 - val_loss: 0.1000 - val_accuracy: 0.9755\n",
      "Epoch 10/15\n",
      "394/394 [==============================] - 1s 4ms/step - loss: 0.0164 - accuracy: 0.9942 - val_loss: 0.0797 - val_accuracy: 0.9799\n",
      "Epoch 11/15\n",
      "394/394 [==============================] - 1s 4ms/step - loss: 0.0147 - accuracy: 0.9951 - val_loss: 0.0888 - val_accuracy: 0.9800\n",
      "Epoch 12/15\n",
      "394/394 [==============================] - 1s 4ms/step - loss: 0.0121 - accuracy: 0.9961 - val_loss: 0.0839 - val_accuracy: 0.9814\n",
      "Epoch 13/15\n",
      "394/394 [==============================] - 1s 4ms/step - loss: 0.0103 - accuracy: 0.9965 - val_loss: 0.0908 - val_accuracy: 0.9801\n",
      "Epoch 14/15\n",
      "394/394 [==============================] - 1s 4ms/step - loss: 0.0099 - accuracy: 0.9968 - val_loss: 0.1076 - val_accuracy: 0.9793\n",
      "Epoch 15/15\n",
      "394/394 [==============================] - 1s 4ms/step - loss: 0.0088 - accuracy: 0.9972 - val_loss: 0.1060 - val_accuracy: 0.9793\n",
      "313/313 [==============================] - 0s 1ms/step - loss: 0.0938 - accuracy: 0.9811\n"
     ]
    },
    {
     "ename": "NameError",
     "evalue": "name 'fully_connexted_model' is not defined",
     "output_type": "error",
     "traceback": [
      "\u001b[0;31m---------------------------------------------------------------------------\u001b[0m",
      "\u001b[0;31mNameError\u001b[0m                                 Traceback (most recent call last)",
      "\u001b[0;32m<ipython-input-9-3b475072d24d>\u001b[0m in \u001b[0;36m<module>\u001b[0;34m\u001b[0m\n\u001b[1;32m      4\u001b[0m \u001b[0mscore\u001b[0m \u001b[0;34m=\u001b[0m \u001b[0mfully_connected_model\u001b[0m\u001b[0;34m.\u001b[0m\u001b[0mevaluate\u001b[0m\u001b[0;34m(\u001b[0m\u001b[0mx_test\u001b[0m\u001b[0;34m,\u001b[0m \u001b[0my_test\u001b[0m\u001b[0;34m)\u001b[0m\u001b[0;34m\u001b[0m\u001b[0;34m\u001b[0m\u001b[0m\n\u001b[1;32m      5\u001b[0m \u001b[0;34m\u001b[0m\u001b[0m\n\u001b[0;32m----> 6\u001b[0;31m \u001b[0mfully_connexted_model\u001b[0m\u001b[0;34m.\u001b[0m\u001b[0msave\u001b[0m\u001b[0;34m(\u001b[0m\u001b[0;34m'./models/'\u001b[0m\u001b[0;34m)\u001b[0m\u001b[0;34m\u001b[0m\u001b[0;34m\u001b[0m\u001b[0m\n\u001b[0m",
      "\u001b[0;31mNameError\u001b[0m: name 'fully_connexted_model' is not defined"
     ]
    }
   ],
   "source": [
    "%tensorboard --logdir ./logs/fully_connected_model/\n",
    "history = fully_connected_model.fit(x_train, y_train, batch_size=128, epochs=15, validation_split=0.16, shuffle=True, \n",
    "                    callbacks=[tf.keras.callbacks.TensorBoard(log_dir='./logs/fully_connected_model/')])\n",
    "score = fully_connected_model.evaluate(x_test, y_test)\n",
    "\n",
    "fully_connexted_model.save('./models/')"
   ]
  },
  {
   "cell_type": "markdown",
   "metadata": {},
   "source": [
    "So how does our model perform? Let's have a look at the graphs and scores (if you are using tensorboard, you have seen the graphs already)."
   ]
  },
  {
   "cell_type": "code",
   "execution_count": null,
   "metadata": {},
   "outputs": [],
   "source": [
    "plot_accuracy(history)\n",
    "plot_loss(history)"
   ]
  },
  {
   "cell_type": "code",
   "execution_count": null,
   "metadata": {
    "scrolled": true
   },
   "outputs": [],
   "source": [
    "print('Accuracy on train set: ', history.history['accuracy'][-1])\n",
    "print('Accuracy on test set: ', score[-1])"
   ]
  },
  {
   "cell_type": "markdown",
   "metadata": {},
   "source": [
    "We have 98.2% accuracy on the test set which is already quite good. On the train set we achieve 99.5% accuracy which is much more. So our model seems to overfit the training set!"
   ]
  },
  {
   "cell_type": "markdown",
   "metadata": {},
   "source": [
    "Let us have a brief look at examples the model was not predicting correctly."
   ]
  },
  {
   "cell_type": "code",
   "execution_count": null,
   "metadata": {},
   "outputs": [],
   "source": [
    "def plot_incorrect_preds(model):\n",
    "    pred = model.predict(x_test)\n",
    "    pred_labels = np.argmax(pred, axis=1)\n",
    "    true_labels = np.argmax(y_test, axis=1)\n",
    "\n",
    "    incorrect = np.where(pred_labels != true_labels)[0]\n",
    "    print('Number of wrong predictions: ', len(incorrect))\n",
    "    \n",
    "    fig, axes = plt.subplots(1, 8, figsize=(16, 2))\n",
    "    for ind, ax in enumerate(axes.flat):\n",
    "        ind = incorrect[ind]\n",
    "        ax.set_axis_off()\n",
    "        ax.imshow(x_test[ind], cmap=plt.get_cmap('gray'))\n",
    "        true_label = one_hot_to_label(y_test[ind])\n",
    "        predicted_label = one_hot_to_label(pred[ind])\n",
    "        confidence = pred[ind, predicted_label]\n",
    "        ax.set_title('Label: %s\\nPrediction: %s\\nConfidence %1.2f' %(true_label, predicted_label, confidence))\n",
    "        \n",
    "plot_incorrect_preds(fully_connected_model)"
   ]
  },
  {
   "cell_type": "markdown",
   "metadata": {},
   "source": [
    "This shows 176 wrong predictions in total. At least among our examples, some of them even have a very high confidence.\n",
    "Let us try to see if we can discover some systematic error in our models prediction. To to so, we plot predictions versus ground truth and inicate the number of samples at a point (truth, prediction) by its color itensity."
   ]
  },
  {
   "cell_type": "code",
   "execution_count": null,
   "metadata": {},
   "outputs": [],
   "source": [
    "def plot_preds_scatter(model):\n",
    "    pred = model.predict(x_test)\n",
    "    pred_labels = np.argmax(pred, axis=1)\n",
    "    true_labels = np.argmax(y_test, axis=1)\n",
    "    \n",
    "    df = pd.DataFrame(true_labels, columns=['Truth'])\n",
    "    df['Prediction'] = pred_labels\n",
    "    df['Incorrect'] = np.where(df['Truth'] == df['Prediction'], False, True)\n",
    "    df_incorr = df.loc[df.Incorrect].reset_index(drop=True)\n",
    "    \n",
    "    df_incorr.plot(x='Truth', y='Prediction', kind='scatter', alpha=.1, s=50, title='')\n",
    "    \n",
    "plot_preds_scatter(fully_connected_model)"
   ]
  },
  {
   "cell_type": "markdown",
   "metadata": {},
   "source": [
    "This reveals, for example, that a two is often mistaken for an eight by the model, a three for a five, and also a nine for a five. We may also have a look at how often number are predicted incorrectly and how many incorrect predictions are there per number."
   ]
  },
  {
   "cell_type": "code",
   "execution_count": null,
   "metadata": {},
   "outputs": [],
   "source": [
    "def plot_incorr_preds_hist(model):\n",
    "    pred = model.predict(x_test)\n",
    "    pred_labels = np.argmax(pred, axis=1)\n",
    "    true_labels = np.argmax(y_test, axis=1)\n",
    "    \n",
    "    df = pd.DataFrame(true_labels, columns=['Truth'])\n",
    "    df['Prediction'] = pred_labels\n",
    "    df['Incorrect'] = np.where(df['Truth'] == df['Prediction'], False, True)\n",
    "    df_incorr = df.loc[df.Incorrect].reset_index(drop=True)\n",
    "    \n",
    "    df_incorr.hist(column=['Truth', 'Prediction'], figsize=(16, 4), grid=False)\n",
    "\n",
    "plot_incorr_preds_hist(fully_connected_model)"
   ]
  },
  {
   "cell_type": "markdown",
   "metadata": {},
   "source": [
    "The numbers three and nine are seen to cause most of the mispredictions but the model also isn't doing too well on three, seven and eight. If a seven is predicted, this is more often false than for other numbers."
   ]
  },
  {
   "cell_type": "markdown",
   "metadata": {},
   "source": [
    "## A convolutional model"
   ]
  },
  {
   "cell_type": "markdown",
   "metadata": {},
   "source": [
    "For computer vision tasks (as recognizing digits in images) convolutional networks usually perform better as it is possible for them to learn patterns. So let us set up a new model with one convolutional layer followed by dense layers, reducing the the size by four in each step, just as before."
   ]
  },
  {
   "cell_type": "code",
   "execution_count": null,
   "metadata": {
    "scrolled": true
   },
   "outputs": [],
   "source": [
    "def conv_model(input_shape, name='Convolutional_MNIST_model'):\n",
    "    \n",
    "    X_input = Input(input_shape)\n",
    "    X = X_input\n",
    "    \n",
    "    X = Conv2D(32, (4, 4), strides=2)(X)\n",
    "    X = MaxPooling2D(pool_size=(2, 2), strides=2, padding='same')(X)\n",
    "    \n",
    "    X = Flatten()(X)\n",
    "    X = Dense(1024, activation='relu')(X)\n",
    "    X = Dense(256, activation='relu')(X)\n",
    "    X = Dense(64, activation='relu')(X)\n",
    "    X = Dense(10, activation='softmax')(X)\n",
    "    \n",
    "    \n",
    "    \n",
    "    model = Model(X_input, X, name=name)\n",
    "    \n",
    "    return model\n",
    "    \n",
    "conv_model = conv_model((28, 28, 1))\n",
    "print(conv_model.summary())"
   ]
  },
  {
   "cell_type": "markdown",
   "metadata": {},
   "source": [
    "Now let's train this model."
   ]
  },
  {
   "cell_type": "code",
   "execution_count": null,
   "metadata": {},
   "outputs": [],
   "source": [
    "conv_model.compile(optimizer='adam', loss='categorical_crossentropy', metrics=['accuracy'])"
   ]
  },
  {
   "cell_type": "code",
   "execution_count": null,
   "metadata": {},
   "outputs": [],
   "source": [
    "%tensorboard --logdir ./logs/conv_model/\n",
    "    \n",
    "history = conv_model.fit(x_train, y_train, batch_size=128, epochs=15, validation_split=0.16, shuffle=True,\n",
    "                               callbacks=[tf.keras.callbacks.TensorBoard(log_dir='./logs/conv_model/')])\n",
    "score = conv_model.evaluate(x_test, y_test)\n",
    "\n",
    "conv_model.save('./models/')"
   ]
  },
  {
   "cell_type": "code",
   "execution_count": null,
   "metadata": {},
   "outputs": [],
   "source": [
    "print('Accuracy on train set: ', history.history['accuracy'][-1])\n",
    "print('Accuracy on test set: ', score[-1])"
   ]
  },
  {
   "cell_type": "code",
   "execution_count": null,
   "metadata": {
    "scrolled": true
   },
   "outputs": [],
   "source": [
    "plot_loss(history)\n",
    "plot_accuracy(history)"
   ]
  },
  {
   "cell_type": "markdown",
   "metadata": {},
   "source": [
    "The convolutional model performs a little better on the test set but also clearly overfits the train set. One possibility to reduce overfitting that usually works is to add dropout layers."
   ]
  },
  {
   "cell_type": "markdown",
   "metadata": {},
   "source": [
    "### Adding dropout layers"
   ]
  },
  {
   "cell_type": "markdown",
   "metadata": {},
   "source": [
    "The following model is basically the same as before but containing three dropout layers. "
   ]
  },
  {
   "cell_type": "code",
   "execution_count": null,
   "metadata": {},
   "outputs": [],
   "source": [
    "def conv_model_with_dropout(input_shape, name='Convolutional_MNIST_model_with_dropout'):\n",
    "    \n",
    "    X_input = Input(input_shape)\n",
    "    X = X_input\n",
    "    \n",
    "    X = Conv2D(32, (4, 4), strides=2, activation='relu')(X)\n",
    "    X = MaxPooling2D(pool_size=(2, 2), strides=2, padding='same')(X)\n",
    "    X = Dropout(0.4)(X)\n",
    "    \n",
    "    X = Flatten()(X)\n",
    "    X = Dense(1024, activation='relu')(X)\n",
    "    X = Dropout(0.2)(X)\n",
    "    X = Dense(256, activation='relu')(X)\n",
    "    X = Dense(64, activation='relu')(X)\n",
    "    X = Dropout(0.2)(X)\n",
    "    X = Dense(10, activation='softmax')(X)\n",
    "    \n",
    "    model = Model(X_input, X, name=name)\n",
    "    \n",
    "    return model\n",
    "    \n",
    "conv_model_with_dropout = conv_model_with_dropout((28, 28, 1))\n",
    "print(conv_model_with_dropout.summary())"
   ]
  },
  {
   "cell_type": "code",
   "execution_count": null,
   "metadata": {},
   "outputs": [],
   "source": [
    "conv_model_with_dropout.compile(optimizer='adam', loss='categorical_crossentropy', metrics=['accuracy'])\n",
    "\n",
    "%tensorboard --logdir ./logs/conv_model_with_dropout/\n",
    "    \n",
    "history = conv_model_with_dropout.fit(x_train, y_train, batch_size=128, epochs=10, validation_split=0.16, \n",
    "                                      shuffle=True,\n",
    "                                      callbacks=[tf.keras.callbacks.TensorBoard(log_dir='./logs/conv_model_with_dropout/')])\n",
    "score = conv_model_with_dropout.evaluate(x_test, y_test)\n",
    "\n",
    "conv_model_with_dropout.save('./models/')"
   ]
  },
  {
   "cell_type": "code",
   "execution_count": null,
   "metadata": {},
   "outputs": [],
   "source": [
    "print('Accuracy on train set: ', history.history['accuracy'][-1])\n",
    "print('Accuracy on test set: ', score[-1])"
   ]
  },
  {
   "cell_type": "markdown",
   "metadata": {},
   "source": [
    "Our model is doing well on the train set and even a little better on the test set. The difference in performance on both is quite small so we can say that we successfully reduced overfitting of our model. We may look again at mislabelled examples and do our short error analysis as we did for the fully connected model."
   ]
  },
  {
   "cell_type": "code",
   "execution_count": null,
   "metadata": {},
   "outputs": [],
   "source": [
    "plot_incorrect_preds(conv_model_with_dropout)"
   ]
  },
  {
   "cell_type": "code",
   "execution_count": null,
   "metadata": {
    "scrolled": true
   },
   "outputs": [],
   "source": [
    "plot_preds_scatter(conv_model_with_dropout)"
   ]
  },
  {
   "cell_type": "markdown",
   "metadata": {},
   "source": [
    "The biggest issues seem to be that a nine is oftentimes predicted as four and a two as seven. Let's see if the histograms confirm this."
   ]
  },
  {
   "cell_type": "code",
   "execution_count": null,
   "metadata": {},
   "outputs": [],
   "source": [
    "plot_incorr_preds_hist(conv_model_with_dropout)"
   ]
  },
  {
   "cell_type": "markdown",
   "metadata": {},
   "source": [
    "They definetely do! So for improving this model it could be a good idea to train it more images of nine and two which we can easily get data agumentation techniques."
   ]
  },
  {
   "cell_type": "markdown",
   "metadata": {},
   "source": [
    "## Adding batch normalization"
   ]
  },
  {
   "cell_type": "markdown",
   "metadata": {},
   "source": [
    "Batch normalization is also a quick way to improve model performance. Let us see if it can help our previous model to perform even better."
   ]
  },
  {
   "cell_type": "code",
   "execution_count": null,
   "metadata": {},
   "outputs": [],
   "source": [
    "def conv_model_dropout_batchnorm(input_shape, name='Convolutional_MNIST_model_with_dropout_and_batch_normalization'):\n",
    "    \n",
    "    X_input = Input(input_shape)\n",
    "    X = X_input\n",
    "    \n",
    "    X = BatchNormalization()(X)\n",
    "    X = Conv2D(32, (4, 4), strides=2, activation='relu')(X)\n",
    "    X = MaxPooling2D(pool_size=(2, 2), strides=2, padding='same')(X)\n",
    "    X = Dropout(0.4)(X)\n",
    "    \n",
    "    X = BatchNormalization()(X)\n",
    "    X = Flatten()(X)\n",
    "    X = Dense(1024, activation='relu')(X)\n",
    "    X = Dropout(0.2)(X)\n",
    "    X = Dense(256, activation='relu')(X)\n",
    "    X = BatchNormalization()(X)\n",
    "    X = Dense(64, activation='relu')(X)\n",
    "    X = Dropout(0.2)(X)\n",
    "    X = Dense(10, activation='softmax')(X)\n",
    "    \n",
    "    \n",
    "    \n",
    "    model = Model(X_input, X, name=name)\n",
    "    \n",
    "    return model\n",
    "    \n",
    "conv_model_dropout_batchnorm = conv_model_dropout_batchnorm((28, 28, 1))\n",
    "print(conv_model_dropout_batchnorm.summary())"
   ]
  },
  {
   "cell_type": "code",
   "execution_count": null,
   "metadata": {},
   "outputs": [],
   "source": [
    "conv_model_dropout_batchnorm.compile(optimizer='adam', loss='categorical_crossentropy', metrics=['accuracy'])\n",
    "\n",
    "%tensorboard --logdir ./logs/conv_model_dropout_batchnorm/\n",
    "    \n",
    "history = conv_model_dropout_batchnorm.fit(x_train, y_train, batch_size=128, epochs=15, validation_split=0.16, \n",
    "                                          shuffle=True,\n",
    "                                          callbacks=[tf.keras.callbacks.TensorBoard(log_dir='./logs/conv_model_dropout_batchnorm/')])\n",
    "score = conv_model_dropout_batchnorm.evaluate(x_test, y_test)\n",
    "\n",
    "conv_model_dropout_batchnorm.save('./models/')"
   ]
  },
  {
   "cell_type": "code",
   "execution_count": null,
   "metadata": {},
   "outputs": [],
   "source": [
    "print('Accuracy on train set: ', history.history['accuracy'][-1])\n",
    "print('Accuracy on test set: ', score[-1])"
   ]
  },
  {
   "cell_type": "markdown",
   "metadata": {},
   "source": [
    "There is almost no performance improvement, instead our model tends more to overfit the training data. Thus, batch normalization doesn't seem to be helpful here."
   ]
  },
  {
   "cell_type": "markdown",
   "metadata": {},
   "source": [
    "## A deep convolutional network"
   ]
  },
  {
   "cell_type": "markdown",
   "metadata": {},
   "source": [
    "As introducing a single convolutional layer worked out well, let us see how things are if we add many convolutional layer and try to learn the digit classification with a deep convolutional network. We will continue using dropout to prevent overfitting."
   ]
  },
  {
   "cell_type": "code",
   "execution_count": null,
   "metadata": {},
   "outputs": [],
   "source": [
    "def deep_conv_model(input_shape, name='Deep_convolutional_MNIST_model'):\n",
    "    \n",
    "    X_input = Input(input_shape)\n",
    "    X = X_input\n",
    "    \n",
    "    X = Conv2D(8, (4, 4), activation='relu', padding='same')(X)\n",
    "    X = Conv2D(8, (1, 1), activation='relu')(X)\n",
    "    X = MaxPooling2D(pool_size=(2, 2), strides=2, padding='same')(X)\n",
    "    X = Conv2D(16, (4, 4), activation='relu', padding='same')(X)\n",
    "    X = Conv2D(16, (1, 1), activation='relu')(X)\n",
    "    X = Conv2D(32, (4, 4), strides=2, activation='relu', padding='same')(X)\n",
    "    X = Conv2D(32, (1, 1), activation='relu')(X)\n",
    "    X = Conv2D(64, (4, 4), strides=2, activation='relu', padding='same')(X)\n",
    "    X = Conv2D(64, (1, 1), activation='relu')(X)\n",
    "    X = Dropout(0.4)(X)\n",
    "    X = Conv2D(128, (4, 4), strides=2, activation='relu')(X)\n",
    "    X = Conv2D(128, (1, 1), activation='relu')(X)\n",
    "    X = Dropout(0.4)(X)\n",
    "    \n",
    "    X = Flatten()(X)\n",
    "    X = Dense(64, activation='relu')(X)\n",
    "    X = Dense(32, activation='relu')(X)\n",
    "    X = Dense(16, activation='relu')(X)\n",
    "    X = Dropout(0.2)(X)\n",
    "    X = Dense(10, activation='softmax')(X)\n",
    "    \n",
    "    \n",
    "    \n",
    "    model = Model(X_input, X, name=name)\n",
    "    \n",
    "    return model\n",
    "    \n",
    "deep_conv_model = deep_conv_model((28, 28, 1))\n",
    "print(deep_conv_model.summary())"
   ]
  },
  {
   "cell_type": "markdown",
   "metadata": {},
   "source": [
    "Note that altough this is a deep model, it has much fewer parameters than our previous model."
   ]
  },
  {
   "cell_type": "code",
   "execution_count": null,
   "metadata": {},
   "outputs": [],
   "source": [
    "deep_conv_model.compile(optimizer='adam', loss='categorical_crossentropy', metrics=['accuracy'])\n",
    "\n",
    "%tensorboard --logdir ./logs/deep_conv_model/\n",
    "    \n",
    "history = deep_conv_model.fit(x_train, y_train, batch_size=128, epochs=15, validation_split=0.16, shuffle=True,\n",
    "                              callbacks=[tf.keras.callbacks.TensorBoard(log_dir='./logs/deep_conv_model/')])\n",
    "score = deep_conv_model.evaluate(x_test, y_test)\n",
    "\n",
    "deep_conv_model.save('./models/')"
   ]
  },
  {
   "cell_type": "code",
   "execution_count": null,
   "metadata": {
    "scrolled": true
   },
   "outputs": [],
   "source": [
    "print('Accuracy on train set: ', history.history['accuracy'][-1])\n",
    "print('Accuracy on test set: ', score[-1])"
   ]
  },
  {
   "cell_type": "markdown",
   "metadata": {},
   "source": [
    "This is 99% percent accuracy and the best we had so far."
   ]
  },
  {
   "cell_type": "code",
   "execution_count": null,
   "metadata": {},
   "outputs": [],
   "source": [
    "plot_incorrect_preds(deep_conv_model)"
   ]
  },
  {
   "cell_type": "code",
   "execution_count": null,
   "metadata": {
    "scrolled": true
   },
   "outputs": [],
   "source": [
    "plot_preds_scatter(deep_conv_model)"
   ]
  },
  {
   "cell_type": "markdown",
   "metadata": {},
   "source": []
  },
  {
   "cell_type": "code",
   "execution_count": null,
   "metadata": {},
   "outputs": [],
   "source": [
    "plot_incorr_preds_hist(deep_conv_model)"
   ]
  },
  {
   "cell_type": "code",
   "execution_count": null,
   "metadata": {},
   "outputs": [],
   "source": []
  },
  {
   "cell_type": "markdown",
   "metadata": {},
   "source": [
    "We reached 99% percent accuracy without any data augmentation or advanced techniques and also have shown some ways how the model could be improved. 99% success is quite a success for a model on the MNIST dataset, in particular for networks without any fine-tuning or extensive data preprocessing."
   ]
  },
  {
   "cell_type": "code",
   "execution_count": null,
   "metadata": {},
   "outputs": [],
   "source": []
  },
  {
   "cell_type": "code",
   "execution_count": null,
   "metadata": {},
   "outputs": [],
   "source": []
  },
  {
   "cell_type": "code",
   "execution_count": null,
   "metadata": {},
   "outputs": [],
   "source": []
  },
  {
   "cell_type": "code",
   "execution_count": null,
   "metadata": {},
   "outputs": [],
   "source": []
  },
  {
   "cell_type": "code",
   "execution_count": null,
   "metadata": {},
   "outputs": [],
   "source": []
  }
 ],
 "metadata": {
  "kernelspec": {
   "display_name": "Python 3",
   "language": "python",
   "name": "python3"
  },
  "language_info": {
   "codemirror_mode": {
    "name": "ipython",
    "version": 3
   },
   "file_extension": ".py",
   "mimetype": "text/x-python",
   "name": "python",
   "nbconvert_exporter": "python",
   "pygments_lexer": "ipython3",
   "version": "3.6.12"
  }
 },
 "nbformat": 4,
 "nbformat_minor": 4
}
